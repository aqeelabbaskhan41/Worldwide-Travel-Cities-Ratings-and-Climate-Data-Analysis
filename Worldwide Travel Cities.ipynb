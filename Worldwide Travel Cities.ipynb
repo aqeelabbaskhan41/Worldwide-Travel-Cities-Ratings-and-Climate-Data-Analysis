{
  "nbformat": 4,
  "nbformat_minor": 0,
  "metadata": {
    "colab": {
      "provenance": [],
      "authorship_tag": "ABX9TyPUmdZ+M6kAUc/96V10m9rb",
      "include_colab_link": true
    },
    "kernelspec": {
      "name": "python3",
      "display_name": "Python 3"
    },
    "language_info": {
      "name": "python"
    }
  },
  "cells": [
    {
      "cell_type": "markdown",
      "metadata": {
        "id": "view-in-github",
        "colab_type": "text"
      },
      "source": [
        "<a href=\"https://colab.research.google.com/github/aqeelabbaskhan41/Worldwide-Travel-Cities-Ratings-and-Climate-Data-Analysis/blob/main/DAV_Lab_Final.ipynb\" target=\"_parent\"><img src=\"https://colab.research.google.com/assets/colab-badge.svg\" alt=\"Open In Colab\"/></a>"
      ]
    },
    {
      "cell_type": "markdown",
      "source": [
        "**Aqeel Abbas Khan NUM-BSCS-2022-38**"
      ],
      "metadata": {
        "id": "L-a4u8GbG9Nh"
      }
    },
    {
      "cell_type": "markdown",
      "source": [
        "**Section A: Core Data Analysis**"
      ],
      "metadata": {
        "id": "nblOJhrb6rxi"
      }
    },
    {
      "cell_type": "code",
      "execution_count": null,
      "metadata": {
        "id": "K9l1tf8J6g_2"
      },
      "outputs": [],
      "source": [
        "import numpy as np\n",
        "import pandas as pd\n",
        "import matplotlib.pyplot as plt\n",
        "import seaborn as sns\n",
        "import plotly.express as px\n",
        "import plotly.graph_objects as go"
      ]
    },
    {
      "cell_type": "markdown",
      "source": [
        "**Q: 01**"
      ],
      "metadata": {
        "id": "9HnaSfG08SS4"
      }
    },
    {
      "cell_type": "code",
      "source": [
        "df = pd.read_csv(\"/content/Worldwide Travel Cities Dataset (Ratings and Climate).csv\")"
      ],
      "metadata": {
        "id": "UDy4233L6wZb"
      },
      "execution_count": null,
      "outputs": []
    },
    {
      "cell_type": "code",
      "source": [
        "df.head()"
      ],
      "metadata": {
        "colab": {
          "base_uri": "https://localhost:8080/",
          "height": 487
        },
        "id": "xyVKKjkx7XmL",
        "outputId": "95a7ce92-5d9b-498e-db2e-351265a625ac"
      },
      "execution_count": null,
      "outputs": [
        {
          "output_type": "execute_result",
          "data": {
            "text/plain": [
              "                                     id            city    country  \\\n",
              "0  c54acf38-3029-496b-8c7a-8343ad82785c           Milan      Italy   \n",
              "1  0bd12654-ed64-424e-a044-7bc574bcf078  Yasawa Islands       Fiji   \n",
              "2  73036cda-9134-46fc-a2c6-807782d59dfb        Whistler     Canada   \n",
              "3  3872c9c0-6b6e-49e1-9743-f46bfe591b86      Guanajuato     Mexico   \n",
              "4  e1ebc1b6-8798-422d-847a-22016faff3fd        Surabaya  Indonesia   \n",
              "\n",
              "          region                                  short_description  \\\n",
              "0         europe  Chic streets lined with fashion boutiques, his...   \n",
              "1        oceania  Crystal-clear waters, secluded beaches, and vi...   \n",
              "2  north_america  Snow-capped peaks and lush forests create a se...   \n",
              "3  north_america  Winding cobblestone streets and colorful facad...   \n",
              "4           asia  Bustling streets filled with the aroma of loca...   \n",
              "\n",
              "    latitude   longitude                                   avg_temp_monthly  \\\n",
              "0  45.464194    9.189635  {\"1\":{\"avg\":3.7,\"max\":7.8,\"min\":0.4},\"2\":{\"avg...   \n",
              "1 -17.290947  177.125786  {\"1\":{\"avg\":28,\"max\":30.8,\"min\":25.8},\"2\":{\"av...   \n",
              "2  50.117190 -122.954302  {\"1\":{\"avg\":-2.5,\"max\":0.4,\"min\":-5.5},\"2\":{\"a...   \n",
              "3  20.987700 -101.000000  {\"1\":{\"avg\":15.5,\"max\":22.8,\"min\":8.7},\"2\":{\"a...   \n",
              "4  -7.245972  112.737827  {\"1\":{\"avg\":28.1,\"max\":32.5,\"min\":25.5},\"2\":{\"...   \n",
              "\n",
              "                       ideal_durations budget_level  culture  adventure  \\\n",
              "0            [\"Short trip\",\"One week\"]       Luxury        5          2   \n",
              "1             [\"Long trip\",\"One week\"]       Luxury        2          4   \n",
              "2  [\"Short trip\",\"Weekend\",\"One week\"]       Luxury        3          5   \n",
              "3  [\"Weekend\",\"One week\",\"Short trip\"]    Mid-range        5          3   \n",
              "4             [\"Short trip\",\"Weekend\"]       Budget        4          3   \n",
              "\n",
              "   nature  beaches  nightlife  cuisine  wellness  urban  seclusion  \n",
              "0       2        1          4        5         3      5          2  \n",
              "1       5        5          2        3         4      1          5  \n",
              "2       5        2          3        3         4      2          4  \n",
              "3       3        1          3        4         3      4          2  \n",
              "4       3        2          3        4         3      4          2  "
            ],
            "text/html": [
              "\n",
              "  <div id=\"df-cd066ce2-db76-49b7-ae09-632f15932ad5\" class=\"colab-df-container\">\n",
              "    <div>\n",
              "<style scoped>\n",
              "    .dataframe tbody tr th:only-of-type {\n",
              "        vertical-align: middle;\n",
              "    }\n",
              "\n",
              "    .dataframe tbody tr th {\n",
              "        vertical-align: top;\n",
              "    }\n",
              "\n",
              "    .dataframe thead th {\n",
              "        text-align: right;\n",
              "    }\n",
              "</style>\n",
              "<table border=\"1\" class=\"dataframe\">\n",
              "  <thead>\n",
              "    <tr style=\"text-align: right;\">\n",
              "      <th></th>\n",
              "      <th>id</th>\n",
              "      <th>city</th>\n",
              "      <th>country</th>\n",
              "      <th>region</th>\n",
              "      <th>short_description</th>\n",
              "      <th>latitude</th>\n",
              "      <th>longitude</th>\n",
              "      <th>avg_temp_monthly</th>\n",
              "      <th>ideal_durations</th>\n",
              "      <th>budget_level</th>\n",
              "      <th>culture</th>\n",
              "      <th>adventure</th>\n",
              "      <th>nature</th>\n",
              "      <th>beaches</th>\n",
              "      <th>nightlife</th>\n",
              "      <th>cuisine</th>\n",
              "      <th>wellness</th>\n",
              "      <th>urban</th>\n",
              "      <th>seclusion</th>\n",
              "    </tr>\n",
              "  </thead>\n",
              "  <tbody>\n",
              "    <tr>\n",
              "      <th>0</th>\n",
              "      <td>c54acf38-3029-496b-8c7a-8343ad82785c</td>\n",
              "      <td>Milan</td>\n",
              "      <td>Italy</td>\n",
              "      <td>europe</td>\n",
              "      <td>Chic streets lined with fashion boutiques, his...</td>\n",
              "      <td>45.464194</td>\n",
              "      <td>9.189635</td>\n",
              "      <td>{\"1\":{\"avg\":3.7,\"max\":7.8,\"min\":0.4},\"2\":{\"avg...</td>\n",
              "      <td>[\"Short trip\",\"One week\"]</td>\n",
              "      <td>Luxury</td>\n",
              "      <td>5</td>\n",
              "      <td>2</td>\n",
              "      <td>2</td>\n",
              "      <td>1</td>\n",
              "      <td>4</td>\n",
              "      <td>5</td>\n",
              "      <td>3</td>\n",
              "      <td>5</td>\n",
              "      <td>2</td>\n",
              "    </tr>\n",
              "    <tr>\n",
              "      <th>1</th>\n",
              "      <td>0bd12654-ed64-424e-a044-7bc574bcf078</td>\n",
              "      <td>Yasawa Islands</td>\n",
              "      <td>Fiji</td>\n",
              "      <td>oceania</td>\n",
              "      <td>Crystal-clear waters, secluded beaches, and vi...</td>\n",
              "      <td>-17.290947</td>\n",
              "      <td>177.125786</td>\n",
              "      <td>{\"1\":{\"avg\":28,\"max\":30.8,\"min\":25.8},\"2\":{\"av...</td>\n",
              "      <td>[\"Long trip\",\"One week\"]</td>\n",
              "      <td>Luxury</td>\n",
              "      <td>2</td>\n",
              "      <td>4</td>\n",
              "      <td>5</td>\n",
              "      <td>5</td>\n",
              "      <td>2</td>\n",
              "      <td>3</td>\n",
              "      <td>4</td>\n",
              "      <td>1</td>\n",
              "      <td>5</td>\n",
              "    </tr>\n",
              "    <tr>\n",
              "      <th>2</th>\n",
              "      <td>73036cda-9134-46fc-a2c6-807782d59dfb</td>\n",
              "      <td>Whistler</td>\n",
              "      <td>Canada</td>\n",
              "      <td>north_america</td>\n",
              "      <td>Snow-capped peaks and lush forests create a se...</td>\n",
              "      <td>50.117190</td>\n",
              "      <td>-122.954302</td>\n",
              "      <td>{\"1\":{\"avg\":-2.5,\"max\":0.4,\"min\":-5.5},\"2\":{\"a...</td>\n",
              "      <td>[\"Short trip\",\"Weekend\",\"One week\"]</td>\n",
              "      <td>Luxury</td>\n",
              "      <td>3</td>\n",
              "      <td>5</td>\n",
              "      <td>5</td>\n",
              "      <td>2</td>\n",
              "      <td>3</td>\n",
              "      <td>3</td>\n",
              "      <td>4</td>\n",
              "      <td>2</td>\n",
              "      <td>4</td>\n",
              "    </tr>\n",
              "    <tr>\n",
              "      <th>3</th>\n",
              "      <td>3872c9c0-6b6e-49e1-9743-f46bfe591b86</td>\n",
              "      <td>Guanajuato</td>\n",
              "      <td>Mexico</td>\n",
              "      <td>north_america</td>\n",
              "      <td>Winding cobblestone streets and colorful facad...</td>\n",
              "      <td>20.987700</td>\n",
              "      <td>-101.000000</td>\n",
              "      <td>{\"1\":{\"avg\":15.5,\"max\":22.8,\"min\":8.7},\"2\":{\"a...</td>\n",
              "      <td>[\"Weekend\",\"One week\",\"Short trip\"]</td>\n",
              "      <td>Mid-range</td>\n",
              "      <td>5</td>\n",
              "      <td>3</td>\n",
              "      <td>3</td>\n",
              "      <td>1</td>\n",
              "      <td>3</td>\n",
              "      <td>4</td>\n",
              "      <td>3</td>\n",
              "      <td>4</td>\n",
              "      <td>2</td>\n",
              "    </tr>\n",
              "    <tr>\n",
              "      <th>4</th>\n",
              "      <td>e1ebc1b6-8798-422d-847a-22016faff3fd</td>\n",
              "      <td>Surabaya</td>\n",
              "      <td>Indonesia</td>\n",
              "      <td>asia</td>\n",
              "      <td>Bustling streets filled with the aroma of loca...</td>\n",
              "      <td>-7.245972</td>\n",
              "      <td>112.737827</td>\n",
              "      <td>{\"1\":{\"avg\":28.1,\"max\":32.5,\"min\":25.5},\"2\":{\"...</td>\n",
              "      <td>[\"Short trip\",\"Weekend\"]</td>\n",
              "      <td>Budget</td>\n",
              "      <td>4</td>\n",
              "      <td>3</td>\n",
              "      <td>3</td>\n",
              "      <td>2</td>\n",
              "      <td>3</td>\n",
              "      <td>4</td>\n",
              "      <td>3</td>\n",
              "      <td>4</td>\n",
              "      <td>2</td>\n",
              "    </tr>\n",
              "  </tbody>\n",
              "</table>\n",
              "</div>\n",
              "    <div class=\"colab-df-buttons\">\n",
              "\n",
              "  <div class=\"colab-df-container\">\n",
              "    <button class=\"colab-df-convert\" onclick=\"convertToInteractive('df-cd066ce2-db76-49b7-ae09-632f15932ad5')\"\n",
              "            title=\"Convert this dataframe to an interactive table.\"\n",
              "            style=\"display:none;\">\n",
              "\n",
              "  <svg xmlns=\"http://www.w3.org/2000/svg\" height=\"24px\" viewBox=\"0 -960 960 960\">\n",
              "    <path d=\"M120-120v-720h720v720H120Zm60-500h600v-160H180v160Zm220 220h160v-160H400v160Zm0 220h160v-160H400v160ZM180-400h160v-160H180v160Zm440 0h160v-160H620v160ZM180-180h160v-160H180v160Zm440 0h160v-160H620v160Z\"/>\n",
              "  </svg>\n",
              "    </button>\n",
              "\n",
              "  <style>\n",
              "    .colab-df-container {\n",
              "      display:flex;\n",
              "      gap: 12px;\n",
              "    }\n",
              "\n",
              "    .colab-df-convert {\n",
              "      background-color: #E8F0FE;\n",
              "      border: none;\n",
              "      border-radius: 50%;\n",
              "      cursor: pointer;\n",
              "      display: none;\n",
              "      fill: #1967D2;\n",
              "      height: 32px;\n",
              "      padding: 0 0 0 0;\n",
              "      width: 32px;\n",
              "    }\n",
              "\n",
              "    .colab-df-convert:hover {\n",
              "      background-color: #E2EBFA;\n",
              "      box-shadow: 0px 1px 2px rgba(60, 64, 67, 0.3), 0px 1px 3px 1px rgba(60, 64, 67, 0.15);\n",
              "      fill: #174EA6;\n",
              "    }\n",
              "\n",
              "    .colab-df-buttons div {\n",
              "      margin-bottom: 4px;\n",
              "    }\n",
              "\n",
              "    [theme=dark] .colab-df-convert {\n",
              "      background-color: #3B4455;\n",
              "      fill: #D2E3FC;\n",
              "    }\n",
              "\n",
              "    [theme=dark] .colab-df-convert:hover {\n",
              "      background-color: #434B5C;\n",
              "      box-shadow: 0px 1px 3px 1px rgba(0, 0, 0, 0.15);\n",
              "      filter: drop-shadow(0px 1px 2px rgba(0, 0, 0, 0.3));\n",
              "      fill: #FFFFFF;\n",
              "    }\n",
              "  </style>\n",
              "\n",
              "    <script>\n",
              "      const buttonEl =\n",
              "        document.querySelector('#df-cd066ce2-db76-49b7-ae09-632f15932ad5 button.colab-df-convert');\n",
              "      buttonEl.style.display =\n",
              "        google.colab.kernel.accessAllowed ? 'block' : 'none';\n",
              "\n",
              "      async function convertToInteractive(key) {\n",
              "        const element = document.querySelector('#df-cd066ce2-db76-49b7-ae09-632f15932ad5');\n",
              "        const dataTable =\n",
              "          await google.colab.kernel.invokeFunction('convertToInteractive',\n",
              "                                                    [key], {});\n",
              "        if (!dataTable) return;\n",
              "\n",
              "        const docLinkHtml = 'Like what you see? Visit the ' +\n",
              "          '<a target=\"_blank\" href=https://colab.research.google.com/notebooks/data_table.ipynb>data table notebook</a>'\n",
              "          + ' to learn more about interactive tables.';\n",
              "        element.innerHTML = '';\n",
              "        dataTable['output_type'] = 'display_data';\n",
              "        await google.colab.output.renderOutput(dataTable, element);\n",
              "        const docLink = document.createElement('div');\n",
              "        docLink.innerHTML = docLinkHtml;\n",
              "        element.appendChild(docLink);\n",
              "      }\n",
              "    </script>\n",
              "  </div>\n",
              "\n",
              "\n",
              "    <div id=\"df-0799b1d4-06ab-4c82-80fd-10283f59d4f1\">\n",
              "      <button class=\"colab-df-quickchart\" onclick=\"quickchart('df-0799b1d4-06ab-4c82-80fd-10283f59d4f1')\"\n",
              "                title=\"Suggest charts\"\n",
              "                style=\"display:none;\">\n",
              "\n",
              "<svg xmlns=\"http://www.w3.org/2000/svg\" height=\"24px\"viewBox=\"0 0 24 24\"\n",
              "     width=\"24px\">\n",
              "    <g>\n",
              "        <path d=\"M19 3H5c-1.1 0-2 .9-2 2v14c0 1.1.9 2 2 2h14c1.1 0 2-.9 2-2V5c0-1.1-.9-2-2-2zM9 17H7v-7h2v7zm4 0h-2V7h2v10zm4 0h-2v-4h2v4z\"/>\n",
              "    </g>\n",
              "</svg>\n",
              "      </button>\n",
              "\n",
              "<style>\n",
              "  .colab-df-quickchart {\n",
              "      --bg-color: #E8F0FE;\n",
              "      --fill-color: #1967D2;\n",
              "      --hover-bg-color: #E2EBFA;\n",
              "      --hover-fill-color: #174EA6;\n",
              "      --disabled-fill-color: #AAA;\n",
              "      --disabled-bg-color: #DDD;\n",
              "  }\n",
              "\n",
              "  [theme=dark] .colab-df-quickchart {\n",
              "      --bg-color: #3B4455;\n",
              "      --fill-color: #D2E3FC;\n",
              "      --hover-bg-color: #434B5C;\n",
              "      --hover-fill-color: #FFFFFF;\n",
              "      --disabled-bg-color: #3B4455;\n",
              "      --disabled-fill-color: #666;\n",
              "  }\n",
              "\n",
              "  .colab-df-quickchart {\n",
              "    background-color: var(--bg-color);\n",
              "    border: none;\n",
              "    border-radius: 50%;\n",
              "    cursor: pointer;\n",
              "    display: none;\n",
              "    fill: var(--fill-color);\n",
              "    height: 32px;\n",
              "    padding: 0;\n",
              "    width: 32px;\n",
              "  }\n",
              "\n",
              "  .colab-df-quickchart:hover {\n",
              "    background-color: var(--hover-bg-color);\n",
              "    box-shadow: 0 1px 2px rgba(60, 64, 67, 0.3), 0 1px 3px 1px rgba(60, 64, 67, 0.15);\n",
              "    fill: var(--button-hover-fill-color);\n",
              "  }\n",
              "\n",
              "  .colab-df-quickchart-complete:disabled,\n",
              "  .colab-df-quickchart-complete:disabled:hover {\n",
              "    background-color: var(--disabled-bg-color);\n",
              "    fill: var(--disabled-fill-color);\n",
              "    box-shadow: none;\n",
              "  }\n",
              "\n",
              "  .colab-df-spinner {\n",
              "    border: 2px solid var(--fill-color);\n",
              "    border-color: transparent;\n",
              "    border-bottom-color: var(--fill-color);\n",
              "    animation:\n",
              "      spin 1s steps(1) infinite;\n",
              "  }\n",
              "\n",
              "  @keyframes spin {\n",
              "    0% {\n",
              "      border-color: transparent;\n",
              "      border-bottom-color: var(--fill-color);\n",
              "      border-left-color: var(--fill-color);\n",
              "    }\n",
              "    20% {\n",
              "      border-color: transparent;\n",
              "      border-left-color: var(--fill-color);\n",
              "      border-top-color: var(--fill-color);\n",
              "    }\n",
              "    30% {\n",
              "      border-color: transparent;\n",
              "      border-left-color: var(--fill-color);\n",
              "      border-top-color: var(--fill-color);\n",
              "      border-right-color: var(--fill-color);\n",
              "    }\n",
              "    40% {\n",
              "      border-color: transparent;\n",
              "      border-right-color: var(--fill-color);\n",
              "      border-top-color: var(--fill-color);\n",
              "    }\n",
              "    60% {\n",
              "      border-color: transparent;\n",
              "      border-right-color: var(--fill-color);\n",
              "    }\n",
              "    80% {\n",
              "      border-color: transparent;\n",
              "      border-right-color: var(--fill-color);\n",
              "      border-bottom-color: var(--fill-color);\n",
              "    }\n",
              "    90% {\n",
              "      border-color: transparent;\n",
              "      border-bottom-color: var(--fill-color);\n",
              "    }\n",
              "  }\n",
              "</style>\n",
              "\n",
              "      <script>\n",
              "        async function quickchart(key) {\n",
              "          const quickchartButtonEl =\n",
              "            document.querySelector('#' + key + ' button');\n",
              "          quickchartButtonEl.disabled = true;  // To prevent multiple clicks.\n",
              "          quickchartButtonEl.classList.add('colab-df-spinner');\n",
              "          try {\n",
              "            const charts = await google.colab.kernel.invokeFunction(\n",
              "                'suggestCharts', [key], {});\n",
              "          } catch (error) {\n",
              "            console.error('Error during call to suggestCharts:', error);\n",
              "          }\n",
              "          quickchartButtonEl.classList.remove('colab-df-spinner');\n",
              "          quickchartButtonEl.classList.add('colab-df-quickchart-complete');\n",
              "        }\n",
              "        (() => {\n",
              "          let quickchartButtonEl =\n",
              "            document.querySelector('#df-0799b1d4-06ab-4c82-80fd-10283f59d4f1 button');\n",
              "          quickchartButtonEl.style.display =\n",
              "            google.colab.kernel.accessAllowed ? 'block' : 'none';\n",
              "        })();\n",
              "      </script>\n",
              "    </div>\n",
              "\n",
              "    </div>\n",
              "  </div>\n"
            ],
            "application/vnd.google.colaboratory.intrinsic+json": {
              "type": "dataframe",
              "variable_name": "df",
              "summary": "{\n  \"name\": \"df\",\n  \"rows\": 560,\n  \"fields\": [\n    {\n      \"column\": \"id\",\n      \"properties\": {\n        \"dtype\": \"string\",\n        \"num_unique_values\": 560,\n        \"samples\": [\n          \"6ce8aa84-b119-4e84-aaec-fc4a2471cc9e\",\n          \"f7812d83-a0ca-428a-9b98-a6ee705b3925\",\n          \"72a44cc1-8aff-4424-95a0-81afd9aa6db1\"\n        ],\n        \"semantic_type\": \"\",\n        \"description\": \"\"\n      }\n    },\n    {\n      \"column\": \"city\",\n      \"properties\": {\n        \"dtype\": \"string\",\n        \"num_unique_values\": 559,\n        \"samples\": [\n          \"Laval\",\n          \"Punta del Este\",\n          \"Lucca\"\n        ],\n        \"semantic_type\": \"\",\n        \"description\": \"\"\n      }\n    },\n    {\n      \"column\": \"country\",\n      \"properties\": {\n        \"dtype\": \"category\",\n        \"num_unique_values\": 167,\n        \"samples\": [\n          \"Togo\",\n          \"Bangladesh\",\n          \"Malaysia\"\n        ],\n        \"semantic_type\": \"\",\n        \"description\": \"\"\n      }\n    },\n    {\n      \"column\": \"region\",\n      \"properties\": {\n        \"dtype\": \"category\",\n        \"num_unique_values\": 7,\n        \"samples\": [\n          \"europe\",\n          \"oceania\",\n          \"middle_east\"\n        ],\n        \"semantic_type\": \"\",\n        \"description\": \"\"\n      }\n    },\n    {\n      \"column\": \"short_description\",\n      \"properties\": {\n        \"dtype\": \"string\",\n        \"num_unique_values\": 560,\n        \"samples\": [\n          \"Charming streets lined with colorful shops and lively pubs create a welcoming vibe, while the nearby coast offers stunning natural beauty.\",\n          \"Charming cobblestone streets, vibrant colonial architecture, and a poignant history create a deeply moving and enriching experience by the ocean.\",\n          \"Sun-drenched plazas, the aroma of orange blossoms, and the passionate rhythm of flamenco create an enchanting and lively atmosphere.\"\n        ],\n        \"semantic_type\": \"\",\n        \"description\": \"\"\n      }\n    },\n    {\n      \"column\": \"latitude\",\n      \"properties\": {\n        \"dtype\": \"number\",\n        \"std\": 27.980021668463547,\n        \"min\": -54.807306,\n        \"max\": 78.7198519,\n        \"num_unique_values\": 552,\n        \"samples\": [\n          -19.9860951,\n          3.741877,\n          19.7589517\n        ],\n        \"semantic_type\": \"\",\n        \"description\": \"\"\n      }\n    },\n    {\n      \"column\": \"longitude\",\n      \"properties\": {\n        \"dtype\": \"number\",\n        \"std\": 78.8138029635331,\n        \"min\": -175.201808,\n        \"max\": 179.3328955,\n        \"num_unique_values\": 552,\n        \"samples\": [\n          23.4224352,\n          8.7740663,\n          99.6734592\n        ],\n        \"semantic_type\": \"\",\n        \"description\": \"\"\n      }\n    },\n    {\n      \"column\": \"avg_temp_monthly\",\n      \"properties\": {\n        \"dtype\": \"string\",\n        \"num_unique_values\": 545,\n        \"samples\": [\n          \"{\\\"1\\\":{\\\"avg\\\":11.8,\\\"max\\\":14.9,\\\"min\\\":8.1},\\\"2\\\":{\\\"avg\\\":12,\\\"max\\\":15.5,\\\"min\\\":7.3},\\\"3\\\":{\\\"avg\\\":13.5,\\\"max\\\":17.1,\\\"min\\\":8.6},\\\"4\\\":{\\\"avg\\\":17,\\\"max\\\":20.6,\\\"min\\\":11.2},\\\"5\\\":{\\\"avg\\\":20.6,\\\"max\\\":24.9,\\\"min\\\":14.4},\\\"6\\\":{\\\"avg\\\":25.7,\\\"max\\\":30.6,\\\"min\\\":19.1},\\\"7\\\":{\\\"avg\\\":28.9,\\\"max\\\":34.3,\\\"min\\\":21.8},\\\"8\\\":{\\\"avg\\\":28.7,\\\"max\\\":33.6,\\\"min\\\":22.2},\\\"9\\\":{\\\"avg\\\":24.8,\\\"max\\\":29,\\\"min\\\":19.3},\\\"10\\\":{\\\"avg\\\":20.5,\\\"max\\\":24.4,\\\"min\\\":15.3},\\\"11\\\":{\\\"avg\\\":16.6,\\\"max\\\":20.5,\\\"min\\\":12.5},\\\"12\\\":{\\\"avg\\\":13.1,\\\"max\\\":16.3,\\\"min\\\":9.9}}\",\n          \"{\\\"1\\\":{\\\"avg\\\":15,\\\"max\\\":19,\\\"min\\\":11.2},\\\"2\\\":{\\\"avg\\\":16.1,\\\"max\\\":20.7,\\\"min\\\":11.8},\\\"3\\\":{\\\"avg\\\":19.1,\\\"max\\\":24.1,\\\"min\\\":14.5},\\\"4\\\":{\\\"avg\\\":22.6,\\\"max\\\":28.8,\\\"min\\\":17},\\\"5\\\":{\\\"avg\\\":26.5,\\\"max\\\":32.9,\\\"min\\\":20.7},\\\"6\\\":{\\\"avg\\\":29.3,\\\"max\\\":35.2,\\\"min\\\":23.8},\\\"7\\\":{\\\"avg\\\":30.3,\\\"max\\\":35.7,\\\"min\\\":25.4},\\\"8\\\":{\\\"avg\\\":30.4,\\\"max\\\":35.6,\\\"min\\\":25.8},\\\"9\\\":{\\\"avg\\\":28.8,\\\"max\\\":34,\\\"min\\\":24.4},\\\"10\\\":{\\\"avg\\\":25.3,\\\"max\\\":30,\\\"min\\\":21.3},\\\"11\\\":{\\\"avg\\\":21,\\\"max\\\":25.3,\\\"min\\\":17.1},\\\"12\\\":{\\\"avg\\\":17.1,\\\"max\\\":21,\\\"min\\\":13.4}}\",\n          \"{\\\"1\\\":{\\\"avg\\\":-3.2,\\\"max\\\":-1,\\\"min\\\":-5.6},\\\"2\\\":{\\\"avg\\\":-2.3,\\\"max\\\":0.2,\\\"min\\\":-4.8},\\\"3\\\":{\\\"avg\\\":0.5,\\\"max\\\":4.7,\\\"min\\\":-2.6},\\\"4\\\":{\\\"avg\\\":5.8,\\\"max\\\":11,\\\"min\\\":1.2},\\\"5\\\":{\\\"avg\\\":11.8,\\\"max\\\":17.4,\\\"min\\\":5.5},\\\"6\\\":{\\\"avg\\\":16.8,\\\"max\\\":22.2,\\\"min\\\":10.8},\\\"7\\\":{\\\"avg\\\":17.9,\\\"max\\\":22.8,\\\"min\\\":13},\\\"8\\\":{\\\"avg\\\":17.3,\\\"max\\\":22.4,\\\"min\\\":12.7},\\\"9\\\":{\\\"avg\\\":12.7,\\\"max\\\":17.4,\\\"min\\\":9},\\\"10\\\":{\\\"avg\\\":6.6,\\\"max\\\":9.9,\\\"min\\\":3.8},\\\"11\\\":{\\\"avg\\\":2.4,\\\"max\\\":4.2,\\\"min\\\":0.5},\\\"12\\\":{\\\"avg\\\":-1.1,\\\"max\\\":0.7,\\\"min\\\":-3.3}}\"\n        ],\n        \"semantic_type\": \"\",\n        \"description\": \"\"\n      }\n    },\n    {\n      \"column\": \"ideal_durations\",\n      \"properties\": {\n        \"dtype\": \"category\",\n        \"num_unique_values\": 21,\n        \"samples\": [\n          \"[\\\"Short trip\\\",\\\"One week\\\"]\",\n          \"[\\\"Long trip\\\",\\\"Short trip\\\",\\\"One week\\\"]\",\n          \"[\\\"Weekend\\\",\\\"Day trip\\\"]\"\n        ],\n        \"semantic_type\": \"\",\n        \"description\": \"\"\n      }\n    },\n    {\n      \"column\": \"budget_level\",\n      \"properties\": {\n        \"dtype\": \"category\",\n        \"num_unique_values\": 3,\n        \"samples\": [\n          \"Luxury\",\n          \"Mid-range\",\n          \"Budget\"\n        ],\n        \"semantic_type\": \"\",\n        \"description\": \"\"\n      }\n    },\n    {\n      \"column\": \"culture\",\n      \"properties\": {\n        \"dtype\": \"number\",\n        \"std\": 0,\n        \"min\": 2,\n        \"max\": 5,\n        \"num_unique_values\": 4,\n        \"samples\": [\n          2,\n          4,\n          5\n        ],\n        \"semantic_type\": \"\",\n        \"description\": \"\"\n      }\n    },\n    {\n      \"column\": \"adventure\",\n      \"properties\": {\n        \"dtype\": \"number\",\n        \"std\": 0,\n        \"min\": 2,\n        \"max\": 5,\n        \"num_unique_values\": 4,\n        \"samples\": [\n          4,\n          3,\n          2\n        ],\n        \"semantic_type\": \"\",\n        \"description\": \"\"\n      }\n    },\n    {\n      \"column\": \"nature\",\n      \"properties\": {\n        \"dtype\": \"number\",\n        \"std\": 0,\n        \"min\": 2,\n        \"max\": 5,\n        \"num_unique_values\": 4,\n        \"samples\": [\n          5,\n          4,\n          2\n        ],\n        \"semantic_type\": \"\",\n        \"description\": \"\"\n      }\n    },\n    {\n      \"column\": \"beaches\",\n      \"properties\": {\n        \"dtype\": \"number\",\n        \"std\": 1,\n        \"min\": 1,\n        \"max\": 5,\n        \"num_unique_values\": 5,\n        \"samples\": [\n          5,\n          4,\n          2\n        ],\n        \"semantic_type\": \"\",\n        \"description\": \"\"\n      }\n    },\n    {\n      \"column\": \"nightlife\",\n      \"properties\": {\n        \"dtype\": \"number\",\n        \"std\": 0,\n        \"min\": 1,\n        \"max\": 5,\n        \"num_unique_values\": 5,\n        \"samples\": [\n          2,\n          5,\n          3\n        ],\n        \"semantic_type\": \"\",\n        \"description\": \"\"\n      }\n    },\n    {\n      \"column\": \"cuisine\",\n      \"properties\": {\n        \"dtype\": \"number\",\n        \"std\": 0,\n        \"min\": 2,\n        \"max\": 5,\n        \"num_unique_values\": 4,\n        \"samples\": [\n          3,\n          2,\n          5\n        ],\n        \"semantic_type\": \"\",\n        \"description\": \"\"\n      }\n    },\n    {\n      \"column\": \"wellness\",\n      \"properties\": {\n        \"dtype\": \"number\",\n        \"std\": 0,\n        \"min\": 2,\n        \"max\": 5,\n        \"num_unique_values\": 4,\n        \"samples\": [\n          4,\n          5,\n          3\n        ],\n        \"semantic_type\": \"\",\n        \"description\": \"\"\n      }\n    },\n    {\n      \"column\": \"urban\",\n      \"properties\": {\n        \"dtype\": \"number\",\n        \"std\": 1,\n        \"min\": 1,\n        \"max\": 5,\n        \"num_unique_values\": 5,\n        \"samples\": [\n          1,\n          3,\n          2\n        ],\n        \"semantic_type\": \"\",\n        \"description\": \"\"\n      }\n    },\n    {\n      \"column\": \"seclusion\",\n      \"properties\": {\n        \"dtype\": \"number\",\n        \"std\": 0,\n        \"min\": 1,\n        \"max\": 5,\n        \"num_unique_values\": 5,\n        \"samples\": [\n          5,\n          1,\n          4\n        ],\n        \"semantic_type\": \"\",\n        \"description\": \"\"\n      }\n    }\n  ]\n}"
            }
          },
          "metadata": {},
          "execution_count": 3
        }
      ]
    },
    {
      "cell_type": "code",
      "source": [
        "df.info()"
      ],
      "metadata": {
        "colab": {
          "base_uri": "https://localhost:8080/"
        },
        "id": "0OmJlrPv7Y5W",
        "outputId": "5320f7e1-02e0-499e-c5d9-a6fd809fdf85"
      },
      "execution_count": null,
      "outputs": [
        {
          "output_type": "stream",
          "name": "stdout",
          "text": [
            "<class 'pandas.core.frame.DataFrame'>\n",
            "RangeIndex: 560 entries, 0 to 559\n",
            "Data columns (total 19 columns):\n",
            " #   Column             Non-Null Count  Dtype  \n",
            "---  ------             --------------  -----  \n",
            " 0   id                 560 non-null    object \n",
            " 1   city               560 non-null    object \n",
            " 2   country            560 non-null    object \n",
            " 3   region             560 non-null    object \n",
            " 4   short_description  560 non-null    object \n",
            " 5   latitude           560 non-null    float64\n",
            " 6   longitude          560 non-null    float64\n",
            " 7   avg_temp_monthly   560 non-null    object \n",
            " 8   ideal_durations    560 non-null    object \n",
            " 9   budget_level       560 non-null    object \n",
            " 10  culture            560 non-null    int64  \n",
            " 11  adventure          560 non-null    int64  \n",
            " 12  nature             560 non-null    int64  \n",
            " 13  beaches            560 non-null    int64  \n",
            " 14  nightlife          560 non-null    int64  \n",
            " 15  cuisine            560 non-null    int64  \n",
            " 16  wellness           560 non-null    int64  \n",
            " 17  urban              560 non-null    int64  \n",
            " 18  seclusion          560 non-null    int64  \n",
            "dtypes: float64(2), int64(9), object(8)\n",
            "memory usage: 83.3+ KB\n"
          ]
        }
      ]
    },
    {
      "cell_type": "code",
      "source": [
        "df.isnull().sum()"
      ],
      "metadata": {
        "colab": {
          "base_uri": "https://localhost:8080/",
          "height": 680
        },
        "id": "6Y_jbf3q7jJa",
        "outputId": "0b6a90dc-55a2-430d-8ca5-d9e4c8c84dd5"
      },
      "execution_count": null,
      "outputs": [
        {
          "output_type": "execute_result",
          "data": {
            "text/plain": [
              "id                   0\n",
              "city                 0\n",
              "country              0\n",
              "region               0\n",
              "short_description    0\n",
              "latitude             0\n",
              "longitude            0\n",
              "avg_temp_monthly     0\n",
              "ideal_durations      0\n",
              "budget_level         0\n",
              "culture              0\n",
              "adventure            0\n",
              "nature               0\n",
              "beaches              0\n",
              "nightlife            0\n",
              "cuisine              0\n",
              "wellness             0\n",
              "urban                0\n",
              "seclusion            0\n",
              "dtype: int64"
            ],
            "text/html": [
              "<div>\n",
              "<style scoped>\n",
              "    .dataframe tbody tr th:only-of-type {\n",
              "        vertical-align: middle;\n",
              "    }\n",
              "\n",
              "    .dataframe tbody tr th {\n",
              "        vertical-align: top;\n",
              "    }\n",
              "\n",
              "    .dataframe thead th {\n",
              "        text-align: right;\n",
              "    }\n",
              "</style>\n",
              "<table border=\"1\" class=\"dataframe\">\n",
              "  <thead>\n",
              "    <tr style=\"text-align: right;\">\n",
              "      <th></th>\n",
              "      <th>0</th>\n",
              "    </tr>\n",
              "  </thead>\n",
              "  <tbody>\n",
              "    <tr>\n",
              "      <th>id</th>\n",
              "      <td>0</td>\n",
              "    </tr>\n",
              "    <tr>\n",
              "      <th>city</th>\n",
              "      <td>0</td>\n",
              "    </tr>\n",
              "    <tr>\n",
              "      <th>country</th>\n",
              "      <td>0</td>\n",
              "    </tr>\n",
              "    <tr>\n",
              "      <th>region</th>\n",
              "      <td>0</td>\n",
              "    </tr>\n",
              "    <tr>\n",
              "      <th>short_description</th>\n",
              "      <td>0</td>\n",
              "    </tr>\n",
              "    <tr>\n",
              "      <th>latitude</th>\n",
              "      <td>0</td>\n",
              "    </tr>\n",
              "    <tr>\n",
              "      <th>longitude</th>\n",
              "      <td>0</td>\n",
              "    </tr>\n",
              "    <tr>\n",
              "      <th>avg_temp_monthly</th>\n",
              "      <td>0</td>\n",
              "    </tr>\n",
              "    <tr>\n",
              "      <th>ideal_durations</th>\n",
              "      <td>0</td>\n",
              "    </tr>\n",
              "    <tr>\n",
              "      <th>budget_level</th>\n",
              "      <td>0</td>\n",
              "    </tr>\n",
              "    <tr>\n",
              "      <th>culture</th>\n",
              "      <td>0</td>\n",
              "    </tr>\n",
              "    <tr>\n",
              "      <th>adventure</th>\n",
              "      <td>0</td>\n",
              "    </tr>\n",
              "    <tr>\n",
              "      <th>nature</th>\n",
              "      <td>0</td>\n",
              "    </tr>\n",
              "    <tr>\n",
              "      <th>beaches</th>\n",
              "      <td>0</td>\n",
              "    </tr>\n",
              "    <tr>\n",
              "      <th>nightlife</th>\n",
              "      <td>0</td>\n",
              "    </tr>\n",
              "    <tr>\n",
              "      <th>cuisine</th>\n",
              "      <td>0</td>\n",
              "    </tr>\n",
              "    <tr>\n",
              "      <th>wellness</th>\n",
              "      <td>0</td>\n",
              "    </tr>\n",
              "    <tr>\n",
              "      <th>urban</th>\n",
              "      <td>0</td>\n",
              "    </tr>\n",
              "    <tr>\n",
              "      <th>seclusion</th>\n",
              "      <td>0</td>\n",
              "    </tr>\n",
              "  </tbody>\n",
              "</table>\n",
              "</div><br><label><b>dtype:</b> int64</label>"
            ]
          },
          "metadata": {},
          "execution_count": 5
        }
      ]
    },
    {
      "cell_type": "code",
      "source": [
        "df['city'].count()"
      ],
      "metadata": {
        "colab": {
          "base_uri": "https://localhost:8080/"
        },
        "id": "CoveCSic7lz1",
        "outputId": "d21117d8-40db-4981-fdd7-5e21e46d0dc4"
      },
      "execution_count": null,
      "outputs": [
        {
          "output_type": "execute_result",
          "data": {
            "text/plain": [
              "np.int64(560)"
            ]
          },
          "metadata": {},
          "execution_count": 6
        }
      ]
    },
    {
      "cell_type": "code",
      "source": [
        "df['country'].nunique()"
      ],
      "metadata": {
        "colab": {
          "base_uri": "https://localhost:8080/"
        },
        "id": "snFrfWKE7v3J",
        "outputId": "b3cdfed5-9af4-408a-bced-99ee3b490051"
      },
      "execution_count": null,
      "outputs": [
        {
          "output_type": "execute_result",
          "data": {
            "text/plain": [
              "167"
            ]
          },
          "metadata": {},
          "execution_count": 7
        }
      ]
    },
    {
      "cell_type": "code",
      "source": [
        "df['region'].nunique()"
      ],
      "metadata": {
        "colab": {
          "base_uri": "https://localhost:8080/"
        },
        "id": "t36ZG2fz74US",
        "outputId": "54ee680c-09ff-4053-9db7-1dd25186ac16"
      },
      "execution_count": null,
      "outputs": [
        {
          "output_type": "execute_result",
          "data": {
            "text/plain": [
              "7"
            ]
          },
          "metadata": {},
          "execution_count": 8
        }
      ]
    },
    {
      "cell_type": "markdown",
      "source": [
        "**Q: 2**"
      ],
      "metadata": {
        "id": "ttPmxwIW8IaT"
      }
    },
    {
      "cell_type": "code",
      "source": [
        "df['Total_Theme_Score'] = df[['culture', 'adventure', 'nature', 'beaches', 'nightlife', 'cuisine', 'wellness', 'urban', 'seclusion']].sum(axis=1)"
      ],
      "metadata": {
        "id": "dPqbwXnr9HrB"
      },
      "execution_count": null,
      "outputs": []
    },
    {
      "cell_type": "code",
      "source": [
        "top_10_cities = df.nlargest(10, 'Total_Theme_Score')[['city', 'Total_Theme_Score']]\n",
        "top_10_cities"
      ],
      "metadata": {
        "colab": {
          "base_uri": "https://localhost:8080/",
          "height": 363
        },
        "id": "56GyCljr8NVX",
        "outputId": "56d96dd7-b53a-43e1-cb53-a39e8265e7c7"
      },
      "execution_count": null,
      "outputs": [
        {
          "output_type": "execute_result",
          "data": {
            "text/plain": [
              "               city  Total_Theme_Score\n",
              "234           Crete                 37\n",
              "50   Rio de Janeiro                 36\n",
              "200       San Diego                 36\n",
              "213        Honolulu                 36\n",
              "424       Vancouver                 36\n",
              "57        Barcelona                 35\n",
              "162       Cape Town                 35\n",
              "163        Castries                 35\n",
              "271        Sardinia                 35\n",
              "283          Sydney                 35"
            ],
            "text/html": [
              "\n",
              "  <div id=\"df-8a024adc-ddb7-42bd-9497-d25122ec4fcc\" class=\"colab-df-container\">\n",
              "    <div>\n",
              "<style scoped>\n",
              "    .dataframe tbody tr th:only-of-type {\n",
              "        vertical-align: middle;\n",
              "    }\n",
              "\n",
              "    .dataframe tbody tr th {\n",
              "        vertical-align: top;\n",
              "    }\n",
              "\n",
              "    .dataframe thead th {\n",
              "        text-align: right;\n",
              "    }\n",
              "</style>\n",
              "<table border=\"1\" class=\"dataframe\">\n",
              "  <thead>\n",
              "    <tr style=\"text-align: right;\">\n",
              "      <th></th>\n",
              "      <th>city</th>\n",
              "      <th>Total_Theme_Score</th>\n",
              "    </tr>\n",
              "  </thead>\n",
              "  <tbody>\n",
              "    <tr>\n",
              "      <th>234</th>\n",
              "      <td>Crete</td>\n",
              "      <td>37</td>\n",
              "    </tr>\n",
              "    <tr>\n",
              "      <th>50</th>\n",
              "      <td>Rio de Janeiro</td>\n",
              "      <td>36</td>\n",
              "    </tr>\n",
              "    <tr>\n",
              "      <th>200</th>\n",
              "      <td>San Diego</td>\n",
              "      <td>36</td>\n",
              "    </tr>\n",
              "    <tr>\n",
              "      <th>213</th>\n",
              "      <td>Honolulu</td>\n",
              "      <td>36</td>\n",
              "    </tr>\n",
              "    <tr>\n",
              "      <th>424</th>\n",
              "      <td>Vancouver</td>\n",
              "      <td>36</td>\n",
              "    </tr>\n",
              "    <tr>\n",
              "      <th>57</th>\n",
              "      <td>Barcelona</td>\n",
              "      <td>35</td>\n",
              "    </tr>\n",
              "    <tr>\n",
              "      <th>162</th>\n",
              "      <td>Cape Town</td>\n",
              "      <td>35</td>\n",
              "    </tr>\n",
              "    <tr>\n",
              "      <th>163</th>\n",
              "      <td>Castries</td>\n",
              "      <td>35</td>\n",
              "    </tr>\n",
              "    <tr>\n",
              "      <th>271</th>\n",
              "      <td>Sardinia</td>\n",
              "      <td>35</td>\n",
              "    </tr>\n",
              "    <tr>\n",
              "      <th>283</th>\n",
              "      <td>Sydney</td>\n",
              "      <td>35</td>\n",
              "    </tr>\n",
              "  </tbody>\n",
              "</table>\n",
              "</div>\n",
              "    <div class=\"colab-df-buttons\">\n",
              "\n",
              "  <div class=\"colab-df-container\">\n",
              "    <button class=\"colab-df-convert\" onclick=\"convertToInteractive('df-8a024adc-ddb7-42bd-9497-d25122ec4fcc')\"\n",
              "            title=\"Convert this dataframe to an interactive table.\"\n",
              "            style=\"display:none;\">\n",
              "\n",
              "  <svg xmlns=\"http://www.w3.org/2000/svg\" height=\"24px\" viewBox=\"0 -960 960 960\">\n",
              "    <path d=\"M120-120v-720h720v720H120Zm60-500h600v-160H180v160Zm220 220h160v-160H400v160Zm0 220h160v-160H400v160ZM180-400h160v-160H180v160Zm440 0h160v-160H620v160ZM180-180h160v-160H180v160Zm440 0h160v-160H620v160Z\"/>\n",
              "  </svg>\n",
              "    </button>\n",
              "\n",
              "  <style>\n",
              "    .colab-df-container {\n",
              "      display:flex;\n",
              "      gap: 12px;\n",
              "    }\n",
              "\n",
              "    .colab-df-convert {\n",
              "      background-color: #E8F0FE;\n",
              "      border: none;\n",
              "      border-radius: 50%;\n",
              "      cursor: pointer;\n",
              "      display: none;\n",
              "      fill: #1967D2;\n",
              "      height: 32px;\n",
              "      padding: 0 0 0 0;\n",
              "      width: 32px;\n",
              "    }\n",
              "\n",
              "    .colab-df-convert:hover {\n",
              "      background-color: #E2EBFA;\n",
              "      box-shadow: 0px 1px 2px rgba(60, 64, 67, 0.3), 0px 1px 3px 1px rgba(60, 64, 67, 0.15);\n",
              "      fill: #174EA6;\n",
              "    }\n",
              "\n",
              "    .colab-df-buttons div {\n",
              "      margin-bottom: 4px;\n",
              "    }\n",
              "\n",
              "    [theme=dark] .colab-df-convert {\n",
              "      background-color: #3B4455;\n",
              "      fill: #D2E3FC;\n",
              "    }\n",
              "\n",
              "    [theme=dark] .colab-df-convert:hover {\n",
              "      background-color: #434B5C;\n",
              "      box-shadow: 0px 1px 3px 1px rgba(0, 0, 0, 0.15);\n",
              "      filter: drop-shadow(0px 1px 2px rgba(0, 0, 0, 0.3));\n",
              "      fill: #FFFFFF;\n",
              "    }\n",
              "  </style>\n",
              "\n",
              "    <script>\n",
              "      const buttonEl =\n",
              "        document.querySelector('#df-8a024adc-ddb7-42bd-9497-d25122ec4fcc button.colab-df-convert');\n",
              "      buttonEl.style.display =\n",
              "        google.colab.kernel.accessAllowed ? 'block' : 'none';\n",
              "\n",
              "      async function convertToInteractive(key) {\n",
              "        const element = document.querySelector('#df-8a024adc-ddb7-42bd-9497-d25122ec4fcc');\n",
              "        const dataTable =\n",
              "          await google.colab.kernel.invokeFunction('convertToInteractive',\n",
              "                                                    [key], {});\n",
              "        if (!dataTable) return;\n",
              "\n",
              "        const docLinkHtml = 'Like what you see? Visit the ' +\n",
              "          '<a target=\"_blank\" href=https://colab.research.google.com/notebooks/data_table.ipynb>data table notebook</a>'\n",
              "          + ' to learn more about interactive tables.';\n",
              "        element.innerHTML = '';\n",
              "        dataTable['output_type'] = 'display_data';\n",
              "        await google.colab.output.renderOutput(dataTable, element);\n",
              "        const docLink = document.createElement('div');\n",
              "        docLink.innerHTML = docLinkHtml;\n",
              "        element.appendChild(docLink);\n",
              "      }\n",
              "    </script>\n",
              "  </div>\n",
              "\n",
              "\n",
              "    <div id=\"df-afb4992b-3d63-441b-8757-a598e7e67154\">\n",
              "      <button class=\"colab-df-quickchart\" onclick=\"quickchart('df-afb4992b-3d63-441b-8757-a598e7e67154')\"\n",
              "                title=\"Suggest charts\"\n",
              "                style=\"display:none;\">\n",
              "\n",
              "<svg xmlns=\"http://www.w3.org/2000/svg\" height=\"24px\"viewBox=\"0 0 24 24\"\n",
              "     width=\"24px\">\n",
              "    <g>\n",
              "        <path d=\"M19 3H5c-1.1 0-2 .9-2 2v14c0 1.1.9 2 2 2h14c1.1 0 2-.9 2-2V5c0-1.1-.9-2-2-2zM9 17H7v-7h2v7zm4 0h-2V7h2v10zm4 0h-2v-4h2v4z\"/>\n",
              "    </g>\n",
              "</svg>\n",
              "      </button>\n",
              "\n",
              "<style>\n",
              "  .colab-df-quickchart {\n",
              "      --bg-color: #E8F0FE;\n",
              "      --fill-color: #1967D2;\n",
              "      --hover-bg-color: #E2EBFA;\n",
              "      --hover-fill-color: #174EA6;\n",
              "      --disabled-fill-color: #AAA;\n",
              "      --disabled-bg-color: #DDD;\n",
              "  }\n",
              "\n",
              "  [theme=dark] .colab-df-quickchart {\n",
              "      --bg-color: #3B4455;\n",
              "      --fill-color: #D2E3FC;\n",
              "      --hover-bg-color: #434B5C;\n",
              "      --hover-fill-color: #FFFFFF;\n",
              "      --disabled-bg-color: #3B4455;\n",
              "      --disabled-fill-color: #666;\n",
              "  }\n",
              "\n",
              "  .colab-df-quickchart {\n",
              "    background-color: var(--bg-color);\n",
              "    border: none;\n",
              "    border-radius: 50%;\n",
              "    cursor: pointer;\n",
              "    display: none;\n",
              "    fill: var(--fill-color);\n",
              "    height: 32px;\n",
              "    padding: 0;\n",
              "    width: 32px;\n",
              "  }\n",
              "\n",
              "  .colab-df-quickchart:hover {\n",
              "    background-color: var(--hover-bg-color);\n",
              "    box-shadow: 0 1px 2px rgba(60, 64, 67, 0.3), 0 1px 3px 1px rgba(60, 64, 67, 0.15);\n",
              "    fill: var(--button-hover-fill-color);\n",
              "  }\n",
              "\n",
              "  .colab-df-quickchart-complete:disabled,\n",
              "  .colab-df-quickchart-complete:disabled:hover {\n",
              "    background-color: var(--disabled-bg-color);\n",
              "    fill: var(--disabled-fill-color);\n",
              "    box-shadow: none;\n",
              "  }\n",
              "\n",
              "  .colab-df-spinner {\n",
              "    border: 2px solid var(--fill-color);\n",
              "    border-color: transparent;\n",
              "    border-bottom-color: var(--fill-color);\n",
              "    animation:\n",
              "      spin 1s steps(1) infinite;\n",
              "  }\n",
              "\n",
              "  @keyframes spin {\n",
              "    0% {\n",
              "      border-color: transparent;\n",
              "      border-bottom-color: var(--fill-color);\n",
              "      border-left-color: var(--fill-color);\n",
              "    }\n",
              "    20% {\n",
              "      border-color: transparent;\n",
              "      border-left-color: var(--fill-color);\n",
              "      border-top-color: var(--fill-color);\n",
              "    }\n",
              "    30% {\n",
              "      border-color: transparent;\n",
              "      border-left-color: var(--fill-color);\n",
              "      border-top-color: var(--fill-color);\n",
              "      border-right-color: var(--fill-color);\n",
              "    }\n",
              "    40% {\n",
              "      border-color: transparent;\n",
              "      border-right-color: var(--fill-color);\n",
              "      border-top-color: var(--fill-color);\n",
              "    }\n",
              "    60% {\n",
              "      border-color: transparent;\n",
              "      border-right-color: var(--fill-color);\n",
              "    }\n",
              "    80% {\n",
              "      border-color: transparent;\n",
              "      border-right-color: var(--fill-color);\n",
              "      border-bottom-color: var(--fill-color);\n",
              "    }\n",
              "    90% {\n",
              "      border-color: transparent;\n",
              "      border-bottom-color: var(--fill-color);\n",
              "    }\n",
              "  }\n",
              "</style>\n",
              "\n",
              "      <script>\n",
              "        async function quickchart(key) {\n",
              "          const quickchartButtonEl =\n",
              "            document.querySelector('#' + key + ' button');\n",
              "          quickchartButtonEl.disabled = true;  // To prevent multiple clicks.\n",
              "          quickchartButtonEl.classList.add('colab-df-spinner');\n",
              "          try {\n",
              "            const charts = await google.colab.kernel.invokeFunction(\n",
              "                'suggestCharts', [key], {});\n",
              "          } catch (error) {\n",
              "            console.error('Error during call to suggestCharts:', error);\n",
              "          }\n",
              "          quickchartButtonEl.classList.remove('colab-df-spinner');\n",
              "          quickchartButtonEl.classList.add('colab-df-quickchart-complete');\n",
              "        }\n",
              "        (() => {\n",
              "          let quickchartButtonEl =\n",
              "            document.querySelector('#df-afb4992b-3d63-441b-8757-a598e7e67154 button');\n",
              "          quickchartButtonEl.style.display =\n",
              "            google.colab.kernel.accessAllowed ? 'block' : 'none';\n",
              "        })();\n",
              "      </script>\n",
              "    </div>\n",
              "\n",
              "  <div id=\"id_a9f2c5ca-e505-46ac-827e-a86dce8b7092\">\n",
              "    <style>\n",
              "      .colab-df-generate {\n",
              "        background-color: #E8F0FE;\n",
              "        border: none;\n",
              "        border-radius: 50%;\n",
              "        cursor: pointer;\n",
              "        display: none;\n",
              "        fill: #1967D2;\n",
              "        height: 32px;\n",
              "        padding: 0 0 0 0;\n",
              "        width: 32px;\n",
              "      }\n",
              "\n",
              "      .colab-df-generate:hover {\n",
              "        background-color: #E2EBFA;\n",
              "        box-shadow: 0px 1px 2px rgba(60, 64, 67, 0.3), 0px 1px 3px 1px rgba(60, 64, 67, 0.15);\n",
              "        fill: #174EA6;\n",
              "      }\n",
              "\n",
              "      [theme=dark] .colab-df-generate {\n",
              "        background-color: #3B4455;\n",
              "        fill: #D2E3FC;\n",
              "      }\n",
              "\n",
              "      [theme=dark] .colab-df-generate:hover {\n",
              "        background-color: #434B5C;\n",
              "        box-shadow: 0px 1px 3px 1px rgba(0, 0, 0, 0.15);\n",
              "        filter: drop-shadow(0px 1px 2px rgba(0, 0, 0, 0.3));\n",
              "        fill: #FFFFFF;\n",
              "      }\n",
              "    </style>\n",
              "    <button class=\"colab-df-generate\" onclick=\"generateWithVariable('top_10_cities')\"\n",
              "            title=\"Generate code using this dataframe.\"\n",
              "            style=\"display:none;\">\n",
              "\n",
              "  <svg xmlns=\"http://www.w3.org/2000/svg\" height=\"24px\"viewBox=\"0 0 24 24\"\n",
              "       width=\"24px\">\n",
              "    <path d=\"M7,19H8.4L18.45,9,17,7.55,7,17.6ZM5,21V16.75L18.45,3.32a2,2,0,0,1,2.83,0l1.4,1.43a1.91,1.91,0,0,1,.58,1.4,1.91,1.91,0,0,1-.58,1.4L9.25,21ZM18.45,9,17,7.55Zm-12,3A5.31,5.31,0,0,0,4.9,8.1,5.31,5.31,0,0,0,1,6.5,5.31,5.31,0,0,0,4.9,4.9,5.31,5.31,0,0,0,6.5,1,5.31,5.31,0,0,0,8.1,4.9,5.31,5.31,0,0,0,12,6.5,5.46,5.46,0,0,0,6.5,12Z\"/>\n",
              "  </svg>\n",
              "    </button>\n",
              "    <script>\n",
              "      (() => {\n",
              "      const buttonEl =\n",
              "        document.querySelector('#id_a9f2c5ca-e505-46ac-827e-a86dce8b7092 button.colab-df-generate');\n",
              "      buttonEl.style.display =\n",
              "        google.colab.kernel.accessAllowed ? 'block' : 'none';\n",
              "\n",
              "      buttonEl.onclick = () => {\n",
              "        google.colab.notebook.generateWithVariable('top_10_cities');\n",
              "      }\n",
              "      })();\n",
              "    </script>\n",
              "  </div>\n",
              "\n",
              "    </div>\n",
              "  </div>\n"
            ],
            "application/vnd.google.colaboratory.intrinsic+json": {
              "type": "dataframe",
              "variable_name": "top_10_cities",
              "summary": "{\n  \"name\": \"top_10_cities\",\n  \"rows\": 10,\n  \"fields\": [\n    {\n      \"column\": \"city\",\n      \"properties\": {\n        \"dtype\": \"string\",\n        \"num_unique_values\": 10,\n        \"samples\": [\n          \"Sardinia\",\n          \"Rio de Janeiro\",\n          \"Barcelona\"\n        ],\n        \"semantic_type\": \"\",\n        \"description\": \"\"\n      }\n    },\n    {\n      \"column\": \"Total_Theme_Score\",\n      \"properties\": {\n        \"dtype\": \"number\",\n        \"std\": 0,\n        \"min\": 35,\n        \"max\": 37,\n        \"num_unique_values\": 3,\n        \"samples\": [\n          37,\n          36,\n          35\n        ],\n        \"semantic_type\": \"\",\n        \"description\": \"\"\n      }\n    }\n  ]\n}"
            }
          },
          "metadata": {},
          "execution_count": 12
        }
      ]
    },
    {
      "cell_type": "markdown",
      "source": [
        "**Q:3**"
      ],
      "metadata": {
        "id": "3_hj8-hi9YMY"
      }
    },
    {
      "cell_type": "code",
      "source": [
        "europe_cities = df[df['region'] == 'europe'].copy()"
      ],
      "metadata": {
        "id": "8RfS74bO9NdQ"
      },
      "execution_count": null,
      "outputs": []
    },
    {
      "cell_type": "code",
      "source": [
        "filtered_cities = europe_cities[\n",
        "    (europe_cities['adventure'] >= 4) &\n",
        "    (europe_cities['budget_level'].isin(['Mid-range', 'Budget']))\n",
        "]\n",
        "print(filtered_cities[['city', 'region',  'adventure', 'budget_level']])\n"
      ],
      "metadata": {
        "colab": {
          "base_uri": "https://localhost:8080/"
        },
        "id": "_sjvrhIm9pCc",
        "outputId": "303d0063-6580-4ca4-fd7f-66fdbd33e3ad"
      },
      "execution_count": null,
      "outputs": [
        {
          "output_type": "stream",
          "name": "stdout",
          "text": [
            "               city  region  adventure budget_level\n",
            "89           Annecy  europe          4    Mid-range\n",
            "156          Azores  europe          4    Mid-range\n",
            "217        Cornwall  europe          4    Mid-range\n",
            "234           Crete  europe          4    Mid-range\n",
            "252         Madeira  europe          4    Mid-range\n",
            "259        La Palma  europe          4    Mid-range\n",
            "271        Sardinia  europe          4    Mid-range\n",
            "308           Lagos  europe          4    Mid-range\n",
            "314        Biarritz  europe          4    Mid-range\n",
            "343            Bled  europe          4    Mid-range\n",
            "345        Asturias  europe          4    Mid-range\n",
            "361       Innsbruck  europe          5    Mid-range\n",
            "406         Algarve  europe          4    Mid-range\n",
            "425         Keswick  europe          4    Mid-range\n",
            "427    Isle of Skye  europe          4    Mid-range\n",
            "541  Plitvice Lakes  europe          4    Mid-range\n",
            "552       Rovaniemi  europe          4    Mid-range\n"
          ]
        }
      ]
    },
    {
      "cell_type": "markdown",
      "source": [
        "**Section B: Data Visualization**"
      ],
      "metadata": {
        "id": "daqf6-wX-_AK"
      }
    },
    {
      "cell_type": "markdown",
      "source": [
        "**Q:4**"
      ],
      "metadata": {
        "id": "BHzeQpsm_90f"
      }
    },
    {
      "cell_type": "code",
      "source": [
        "# A bar plot showing average Cuisine rating per region\n",
        "average_cuisine_rating_per_region = df.groupby('region')['cuisine'].mean().reset_index()\n",
        "plt.figure(figsize=(12, 6))\n",
        "sns.barplot(x='region', y='cuisine', data=average_cuisine_rating_per_region, hue='region')\n",
        "plt.title('Average Cuisine Rating per Region')\n",
        "plt.xlabel('Region')\n",
        "plt.ylabel('Average Cuisine Rating')\n",
        "plt.xticks(rotation=45, ha='right')\n",
        "plt.tight_layout()\n",
        "plt.show()\n",
        "\n"
      ],
      "metadata": {
        "colab": {
          "base_uri": "https://localhost:8080/",
          "height": 607
        },
        "id": "kKwPD0Jc-Ow7",
        "outputId": "9f473796-2ef1-4892-8ba1-1291e46f8d52"
      },
      "execution_count": null,
      "outputs": [
        {
          "output_type": "display_data",
          "data": {
            "text/plain": [
              "<Figure size 1200x600 with 1 Axes>"
            ],
            "image/png": "[encoded data removed]"
          },
          "metadata": {}
        }
      ]
    },
    {
      "cell_type": "code",
      "source": [
        "# pie chart for Budget Level distribution\n",
        "budget_level_counts = df['budget_level'].value_counts().reset_index()\n",
        "budget_level_counts.columns = ['budget_level', 'count']\n",
        "plt.figure(figsize=(8, 8))\n",
        "plt.pie(budget_level_counts['count'], labels=budget_level_counts['budget_level'], autopct='%1.1f%%', startangle=140)\n",
        "plt.title('Budget Level Distribution')\n",
        "plt.axis('equal')  # Equal aspect ratio ensures that pie is drawn as a circle.\n",
        "plt.show()"
      ],
      "metadata": {
        "colab": {
          "base_uri": "https://localhost:8080/",
          "height": 675
        },
        "id": "mVmgmcjV_VUo",
        "outputId": "92fa7e7d-5fd4-4ea3-f709-7eb5fc3edea4"
      },
      "execution_count": null,
      "outputs": [
        {
          "output_type": "display_data",
          "data": {
            "text/plain": [
              "<Figure size 800x800 with 1 Axes>"
            ],
            "image/png": "[encoded data removed]"
          },
          "metadata": {}
        }
      ]
    },
    {
      "cell_type": "markdown",
      "source": [
        "**Q:5**"
      ],
      "metadata": {
        "id": "T-b_vgd8ApqC"
      }
    },
    {
      "cell_type": "code",
      "source": [
        "fig = px.scatter(df,\n",
        "                 x='adventure',\n",
        "                 y='nightlife',\n",
        "                 size='culture',\n",
        "                 hover_name='city',\n",
        "                 hover_data=['country'],\n",
        "                 color='region',\n",
        "                 title='Adventure vs. Nightlife Ratings (Size indicates Culture Score)')\n",
        "fig.show()"
      ],
      "metadata": {
        "colab": {
          "base_uri": "https://localhost:8080/",
          "height": 542
        },
        "id": "7PxpCZ2z_Yo0",
        "outputId": "4a50451b-3ff7-4ba4-8f6d-39064b17dc6f"
      },
      "execution_count": null,
      "outputs": [
        {
          "output_type": "display_data",
          "data": {
            "text/html": [
              "<html>\n",
              "<head><meta charset=\"utf-8\" /></head>\n",
              "<body>\n",
              "    <div>            <script src=\"https://cdnjs.cloudflare.com/ajax/libs/mathjax/2.7.5/MathJax.js?config=TeX-AMS-MML_SVG\"></script><script type=\"text/javascript\">if (window.MathJax && window.MathJax.Hub && window.MathJax.Hub.Config) {window.MathJax.Hub.Config({SVG: {font: \"STIX-Web\"}});}</script>                <script type=\"text/javascript\">window.PlotlyConfig = {MathJaxConfig: 'local'};</script>\n",
              "        <script charset=\"utf-8\" src=\"https://cdn.plot.ly/plotly-2.35.2.min.js\"></script>                <div id=\"5df1b62c-e5ff-409f-a26b-da63255bf228\" class=\"plotly-graph-div\" style=\"height:525px; width:100%;\"></div>            <script type=\"text/javascript\">                                    window.PLOTLYENV=window.PLOTLYENV || {};                                    if (document.getElementById(\"5df1b62c-e5ff-409f-a26b-da63255bf228\")) {                    Plotly.newPlot(                        \"5df1b62c-e5ff-409f-a26b-da63255bf228\",                        [{\"customdata\":[[\"Italy\"],[\"Greece\"],[\"Germany\"],[\"Netherlands\"],[\"Sweden\"],[\"Netherlands\"],[\"Norway\"],[\"Belgium\"],[\"Iceland\"],[\"Ireland\"],[\"Poland\"],[\"Greece\"],[\"Spain\"],[\"Bosnia and Herzegovina\"],[\"Albania\"],[\"Italy\"],[\"Spain\"],[\"North Macedonia\"],[\"Croatia\"],[\"Norway\"],[\"France\"],[\"Bulgaria\"],[\"San Marino\"],[\"Germany\"],[\"Finland\"],[\"Poland\"],[\"Italy\"],[\"France\"],[\"Germany\"],[\"Germany\"],[\"Slovenia\"],[\"Malta\"],[\"Greece\"],[\"Spain\"],[\"Hungary\"],[\"Monaco\"],[\"Italy\"],[\"Sweden\"],[\"Italy\"],[\"Italy\"],[\"Lithuania\"],[\"Montenegro\"],[\"Moldova\"],[\"Norway\"],[\"Montenegro\"],[\"Poland\"],[\"Netherlands\"],[\"Sweden\"],[\"United Kingdom\"],[\"Norway\"],[\"Switzerland\"],[\"Italy\"],[\"Portugal\"],[\"Portugal\"],[\"Romania\"],[\"Spain\"],[\"France\"],[\"Slovenia\"],[\"Spain\"],[\"Turkey\"],[\"Spain\"],[\"United Kingdom\"],[\"Ukraine\"],[\"Ukraine\"],[\"Poland\"],[\"Norway\"],[\"Finland\"],[\"Ukraine\"],[\"Spain\"],[\"United Kingdom\"],[\"United Kingdom\"],[\"Croatia\"],[\"Italy\"],[\"France\"],[\"France\"],[\"Hungary\"],[\"Greece\"],[\"Italy\"],[\"Portugal\"],[\"Albania\"],[\"Czech Republic\"],[\"Italy\"],[\"Spain\"],[\"Belgium\"],[\"United Kingdom\"],[\"Italy\"],[\"Italy\"],[\"Romania\"],[\"Austria\"],[\"Belarus\"],[\"Bosnia and Herzegovina\"],[\"Ireland\"],[\"United Kingdom\"],[\"Kosovo\"],[\"Serbia\"],[\"Austria\"],[\"Cyprus\"],[\"France\"],[\"Portugal\"],[\"Estonia\"],[\"France\"],[\"Italy\"],[\"France\"],[\"Portugal\"],[\"Croatia\"],[\"Germany\"],[\"Greece\"],[\"Iceland\"],[\"Italy\"],[\"Luxembourg\"],[\"Latvia\"],[\"Netherlands\"],[\"Portugal\"],[\"Slovenia\"],[\"Spain\"],[\"Spain\"],[\"Switzerland\"],[\"United Kingdom\"],[\"Austria\"],[\"Belgium\"],[\"Czech Republic\"],[\"Estonia\"],[\"Czech Republic\"],[\"Croatia\"],[\"Estonia\"],[\"Italy\"],[\"France\"],[\"France\"],[\"France\"],[\"Germany\"],[\"Lithuania\"],[\"Germany\"],[\"Iceland\"],[\"France\"],[\"United Kingdom\"],[\"Italy\"],[\"United Kingdom\"],[\"North Macedonia\"],[\"Portugal\"],[\"Romania\"],[\"Switzerland\"],[\"United Kingdom\"],[\"Romania\"],[\"United Kingdom\"],[\"Italy\"],[\"United Kingdom\"],[\"Portugal\"],[\"Croatia\"],[\"France\"],[\"Germany\"],[\"France\"],[\"Slovakia\"],[\"Bulgaria\"],[\"Ireland\"],[\"Austria\"],[\"Italy\"],[\"Switzerland\"],[\"Switzerland\"],[\"Portugal\"],[\"Germany\"],[\"Italy\"],[\"Spain\"],[\"Spain\"],[\"Austria\"],[\"Germany\"],[\"Portugal\"],[\"Belgium\"],[\"Germany\"],[\"Portugal\"],[\"France\"],[\"Croatia\"],[\"Denmark\"],[\"United Kingdom\"],[\"Finland\"],[\"Sweden\"],[\"United Kingdom\"],[\"Denmark\"]],\"hovertemplate\":\"\\u003cb\\u003e%{hovertext}\\u003c\\u002fb\\u003e\\u003cbr\\u003e\\u003cbr\\u003eregion=europe\\u003cbr\\u003eadventure=%{x}\\u003cbr\\u003enightlife=%{y}\\u003cbr\\u003eculture=%{marker.size}\\u003cbr\\u003ecountry=%{customdata[0]}\\u003cextra\\u003e\\u003c\\u002fextra\\u003e\",\"hovertext\":[\"Milan\",\"Nafplio\",\"Heidelberg\",\"Utrecht\",\"Malmö\",\"Amsterdam\",\"Trondheim\",\"Bruges\",\"Reykjavik\",\"Dublin\",\"Kraków\",\"Athens\",\"San Sebastián\",\"Sarajevo\",\"Tirana\",\"Lucca\",\"Barcelona\",\"Skopje\",\"Dubrovnik\",\"Bergen\",\"Marseille\",\"Sofia\",\"San Marino\",\"Berlin\",\"Helsinki\",\"Warsaw\",\"Verona\",\"Annecy\",\"Munich\",\"Freiburg\",\"Piran\",\"Valletta\",\"Thessaloniki\",\"Valencia\",\"Budapest\",\"Monaco\",\"Rome\",\"Stockholm\",\"Palermo\",\"Sicily\",\"Kaunas\",\"Podgorica\",\"Chisinau\",\"Oslo\",\"Kotor\",\"Krakow\",\"Maastricht\",\"Gotland\",\"St Ives\",\"Tromsø\",\"Bern\",\"Catania\",\"Porto\",\"Azores\",\"Constanta\",\"Madrid\",\"Nantes\",\"Ljubljana\",\"Menorca\",\"Istanbul\",\"Seville\",\"Belfast\",\"Odessa\",\"Kyiv\",\"Gdansk\",\"Svalbard\",\"Lapland\",\"Lviv\",\"Ronda\",\"London\",\"Cornwall\",\"Split\",\"Florence\",\"Bordeaux\",\"Strasbourg\",\"Debrecen\",\"Crete\",\"Taormina\",\"Madeira\",\"Gjirokastër\",\"Cesky Krumlov\",\"Siena\",\"La Palma\",\"Ghent\",\"Birmingham\",\"Tuscany\",\"Sardinia\",\"Sibiu\",\"Vienna\",\"Minsk\",\"Mostar\",\"Galway\",\"Bath\",\"Pristina\",\"Belgrade\",\"Hallstatt\",\"Nicosia\",\"Carcassonne\",\"Lagos\",\"Tallinn\",\"Paris\",\"Puglia\",\"Biarritz\",\"Sintra\",\"Hvar\",\"Rostock\",\"Zakynthos\",\"Reykjavík\",\"Naples\",\"Luxembourg City\",\"Riga\",\"Eindhoven\",\"Lisbon\",\"Bled\",\"Bilbao\",\"Asturias\",\"Zermatt\",\"Glasgow\",\"Innsbruck\",\"Brussels\",\"Brno\",\"Tartu\",\"Prague\",\"Rijeka\",\"Saaremaa Island\",\"Venice\",\"Rennes\",\"Lyon\",\"Carcassone\",\"Hamburg\",\"Vilnius\",\"Lübeck\",\"Akureyri\",\"Ajaccio\",\"York\",\"Matera\",\"Edinburgh\",\"Ohrid\",\"Algarve\",\"Bucharest\",\"Zurich\",\"Cardiff\",\"Sighisoara\",\"Keswick\",\"Bologna\",\"Isle of Skye\",\"Guimarães\",\"Zagreb\",\"Toulouse\",\"Frankfurt\",\"Colmar\",\"Bratislava\",\"Plovdiv\",\"Cork\",\"Salzburg\",\"Turin\",\"Lugano\",\"Lausanne\",\"Vilamoura\",\"Cologne\",\"Pisa\",\"Malaga\",\"Granada\",\"Linz\",\"Leipzig\",\"Braga\",\"Antwerp\",\"Nuremberg\",\"Funchal\",\"Lille\",\"Plitvice Lakes\",\"Aarhus\",\"Bristol\",\"Rovaniemi\",\"Gothenburg\",\"Manchester\",\"Copenhagen\"],\"legendgroup\":\"europe\",\"marker\":{\"color\":\"#636efa\",\"size\":[5,4,5,4,4,5,4,5,3,4,5,5,4,4,3,4,5,4,5,4,4,4,4,5,4,4,5,4,5,4,4,5,4,4,5,4,5,4,4,5,4,3,3,4,4,5,4,4,4,3,4,4,4,3,3,5,4,4,3,5,5,4,4,4,4,2,3,5,4,5,3,4,5,4,5,3,4,4,3,5,5,5,3,5,4,5,3,4,5,3,4,4,5,3,4,4,4,5,3,4,5,4,3,5,3,4,3,3,5,4,4,3,5,3,5,4,3,4,4,4,4,4,5,4,3,5,4,5,5,4,4,4,3,4,5,5,5,4,3,4,4,4,5,3,5,3,4,4,4,4,4,4,4,4,5,5,3,4,3,4,4,4,5,4,4,4,4,4,4,4,2,4,4,3,4,4,5],\"sizemode\":\"area\",\"sizeref\":0.0125,\"symbol\":\"circle\"},\"mode\":\"markers\",\"name\":\"europe\",\"orientation\":\"v\",\"showlegend\":true,\"x\":[2,3,2,2,3,3,3,2,4,2,2,3,3,3,3,2,3,3,3,4,3,3,2,3,3,2,2,4,3,3,3,2,3,3,3,2,3,3,2,3,2,3,2,3,3,2,2,3,3,4,3,3,3,4,3,3,2,3,3,3,3,3,3,3,2,5,4,2,3,2,4,3,2,2,2,2,4,3,4,3,2,2,4,2,2,3,4,3,2,2,3,3,2,2,3,3,3,2,4,2,2,3,4,3,3,3,3,4,3,2,3,2,3,4,3,4,5,2,5,2,3,2,2,3,3,2,2,2,2,3,2,2,4,3,2,2,3,3,4,2,3,2,3,4,2,4,3,3,3,2,2,3,3,3,3,2,3,3,3,2,2,3,3,2,2,2,2,2,3,2,4,2,3,4,3,2,2],\"xaxis\":\"x\",\"y\":[4,3,3,4,3,5,3,3,3,4,4,4,4,3,3,2,5,3,3,3,4,3,2,5,3,4,3,3,4,3,3,3,4,4,5,5,4,4,3,3,3,3,3,3,2,4,3,3,3,3,3,3,4,2,3,5,3,3,3,4,4,3,4,4,3,1,2,3,2,5,2,4,3,3,3,3,3,3,3,2,2,2,2,4,3,3,3,3,4,3,3,4,3,3,5,2,3,2,4,3,5,3,3,2,5,3,4,3,4,3,4,3,4,2,4,3,2,4,3,3,3,3,4,3,2,3,3,4,2,4,3,3,2,3,3,2,4,3,3,4,3,4,2,2,3,1,2,3,4,4,2,3,3,3,3,3,3,3,4,4,3,4,4,3,4,3,4,3,3,3,1,3,4,2,3,4,4],\"yaxis\":\"y\",\"type\":\"scatter\"},{\"customdata\":[[\"Fiji\"],[\"Australia\"],[\"American Samoa\"],[\"Australia\"],[\"Australia\"],[\"New Zealand\"],[\"Cook Islands\"],[\"Australia\"],[\"New Caledonia\"],[\"New Zealand\"],[\"New Zealand\"],[\"United States\"],[\"Palau\"],[\"Papua New Guinea\"],[\"New Zealand\"],[\"Australia\"],[\"Solomon Islands\"],[\"Tonga\"],[\"Vanuatu\"],[\"Australia\"],[\"New Zealand\"],[\"Papua New Guinea\"],[\"Samoa\"],[\"Australia\"],[\"French Polynesia\"],[\"French Polynesia\"],[\"Vanuatu\"],[\"Australia\"],[\"Fiji\"],[\"Australia\"],[\"United States\"],[\"Australia\"],[\"Cook Islands\"],[\"Tuvalu\"],[\"Australia\"],[\"French Polynesia\"],[\"Vanuatu\"],[\"Australia\"],[\"Australia\"],[\"French Polynesia\"],[\"Australia\"],[\"Fiji\"],[\"Fiji\"],[\"Australia\"],[\"Australia\"],[\"New Zealand\"],[\"New Zealand\"],[\"Australia\"],[\"New Zealand\"],[\"Fiji\"],[\"New Zealand\"]],\"hovertemplate\":\"\\u003cb\\u003e%{hovertext}\\u003c\\u002fb\\u003e\\u003cbr\\u003e\\u003cbr\\u003eregion=oceania\\u003cbr\\u003eadventure=%{x}\\u003cbr\\u003enightlife=%{y}\\u003cbr\\u003eculture=%{marker.size}\\u003cbr\\u003ecountry=%{customdata[0]}\\u003cextra\\u003e\\u003c\\u002fextra\\u003e\",\"hovertext\":[\"Yasawa Islands\",\"Hobart\",\"Pago Pago\",\"Hamilton Island\",\"Melbourne\",\"Auckland\",\"Avarua\",\"Fraser Island\",\"Noumea\",\"Christchurch\",\"Rotorua\",\"Honolulu\",\"Palau\",\"Madang\",\"Wellington\",\"Brisbane\",\"Honiara\",\"Nukuʻalofa\",\"Port Vila\",\"Sydney\",\"Queenstown\",\"Port Moresby\",\"Apia\",\"Adelaide\",\"Papeete\",\"Bora Bora\",\"Tanna Island\",\"Perth\",\"Suva\",\"Launceston\",\"Maui\",\"Gold Coast\",\"Rarotonga\",\"Funafuti\",\"Ayers Rock\",\"Moorea\",\"Espiritu Santo\",\"Byron Bay\",\"Port Douglas\",\"Tahiti\",\"Uluru\",\"Lautoka\",\"Nadi\",\"Darwin\",\"Great Barrier Reef\",\"Taupo\",\"Dunedin\",\"Kangaroo Island\",\"Bay of Islands\",\"Savusavu\",\"Nelson\"],\"legendgroup\":\"oceania\",\"marker\":{\"color\":\"#EF553B\",\"size\":[2,4,3,2,5,3,3,2,3,3,4,4,3,4,4,4,3,3,3,4,3,3,4,4,3,2,4,3,3,3,3,3,3,2,4,3,3,3,3,3,4,3,3,3,2,3,4,3,3,3,3],\"sizemode\":\"area\",\"sizeref\":0.0125,\"symbol\":\"circle\"},\"mode\":\"markers\",\"name\":\"oceania\",\"orientation\":\"v\",\"showlegend\":true,\"x\":[4,3,4,4,3,4,3,5,3,4,4,4,5,4,3,4,3,3,4,4,5,4,3,3,4,4,4,4,3,4,4,4,4,2,4,4,4,4,4,4,4,4,4,4,5,5,3,4,4,4,4],\"xaxis\":\"x\",\"y\":[2,2,2,3,4,4,2,1,3,3,3,4,2,2,4,4,2,2,2,4,4,2,2,3,3,2,1,3,3,2,3,4,2,1,1,2,2,3,2,2,1,2,3,3,2,3,3,2,2,2,2],\"yaxis\":\"y\",\"type\":\"scatter\"},{\"customdata\":[[\"Canada\"],[\"Mexico\"],[\"Greenland\"],[\"Jamaica\"],[\"United States\"],[\"United States\"],[\"United States\"],[\"United States\"],[\"United States\"],[\"United States\"],[\"United States\"],[\"Mexico\"],[\"United States\"],[\"Barbados\"],[\"Mexico\"],[\"United States\"],[\"Canada\"],[\"Canada\"],[\"Canada\"],[\"Bermuda\"],[\"Canada\"],[\"Panama\"],[\"Dominican Republic\"],[\"United States\"],[\"Panama\"],[\"Mexico\"],[\"Mexico\"],[\"Mexico\"],[\"Nicaragua\"],[\"Puerto Rico\"],[\"United States\"],[\"Quebec\"],[\"Mexico\"],[\"Saint Lucia\"],[\"Trinidad and Tobago\"],[\"United States\"],[\"United States\"],[\"United States\"],[\"U.S. Virgin Islands\"],[\"United States\"],[\"United States\"],[\"United States\"],[\"United States\"],[\"United States\"],[\"United States\"],[\"Mexico\"],[\"United States\"],[\"United States\"],[\"Grenada\"],[\"United States\"],[\"United States\"],[\"United States\"],[\"Mexico\"],[\"United States\"],[\"Saint Kitts and Nevis\"],[\"Costa Rica\"],[\"Canada\"],[\"United States\"],[\"United States\"],[\"United States\"],[\"Turks and Caicos\"],[\"Canada\"],[\"Canada\"],[\"United States\"],[\"Costa Rica\"],[\"Cuba\"],[\"Dominica\"],[\"Mexico\"],[\"United States\"],[\"United States\"],[\"United States\"],[\"United States\"],[\"United States\"],[\"United States\"],[\"Canada\"],[\"Guatemala\"],[\"United States\"],[\"United States\"],[\"United States\"],[\"Canada\"],[\"United States\"],[\"United States\"],[\"Canada\"],[\"El Salvador\"],[\"Cuba\"],[\"Belize\"],[\"Belize\"],[\"United States\"],[\"Mexico\"],[\"Canada\"],[\"United States\"],[\"United States\"],[\"Jamaica\"],[\"Mexico\"],[\"Costa Rica\"],[\"Mexico\"],[\"United States\"],[\"Canada\"],[\"Mexico\"],[\"United States\"],[\"Mexico\"],[\"United States\"],[\"United States\"],[\"Canada\"]],\"hovertemplate\":\"\\u003cb\\u003e%{hovertext}\\u003c\\u002fb\\u003e\\u003cbr\\u003e\\u003cbr\\u003eregion=north_america\\u003cbr\\u003eadventure=%{x}\\u003cbr\\u003enightlife=%{y}\\u003cbr\\u003eculture=%{marker.size}\\u003cbr\\u003ecountry=%{customdata[0]}\\u003cextra\\u003e\\u003c\\u002fextra\\u003e\",\"hovertext\":[\"Whistler\",\"Guanajuato\",\"Nuuk\",\"Kingston\",\"New York\",\"Chicago\",\"Raleigh\",\"Tampa\",\"Washington\",\"Austin\",\"New Orleans\",\"Puebla\",\"Richmond\",\"Bridgetown\",\"Oaxaca City\",\"Sedona\",\"Toronto\",\"Edmonton\",\"Banff\",\"Hamilton\",\"Québec City\",\"Bocas del Toro\",\"Santo Domingo\",\"Charlotte\",\"Panama City\",\"Mexico City\",\"Oaxaca\",\"Monterrey\",\"Granada\",\"San Juan\",\"Salt Lake City\",\"Laval\",\"Puerto Vallarta\",\"Castries\",\"Port of Spain\",\"Miami\",\"San Francisco\",\"Boston\",\"Christiansted\",\"Houston\",\"San Diego\",\"Nashville\",\"Cleveland\",\"Rochester\",\"Memphis\",\"Tulum\",\"Seattle\",\"Philadelphia\",\"St. George's\",\"Baltimore\",\"Phoenix\",\"New York City\",\"Guadalajara\",\"Anchorage\",\"Basseterre\",\"Monteverde\",\"Charlottetown\",\"St. Louis\",\"Las Vegas\",\"Detroit\",\"Providenciales\",\"Calgary\",\"Halifax\",\"Dallas\",\"San José\",\"Havana\",\"Roseau\",\"San Cristóbal de las Casas\",\"Portland\",\"Minneapolis\",\"Denver\",\"Tucson\",\"Pittsburgh\",\"Washington DC\",\"Ottawa\",\"Antigua\",\"Atlanta\",\"Los Angeles\",\"Savannah\",\"Montreal\",\"San Jose\",\"Orlando\",\"Vancouver\",\"San Salvador\",\"Trinidad\",\"Belize City\",\"Caye Caulker\",\"Fort Lauderdale\",\"Playa del Carmen\",\"Quebec City\",\"Zion National Park\",\"Lake Tahoe\",\"Montego Bay\",\"Acapulco\",\"Manuel Antonio National Park\",\"Cancun\",\"San Antonio\",\"Niagara Falls\",\"Los Cabos\",\"Charleston\",\"Cozumel\",\"Yellowstone National Park\",\"Key West\",\"Vancouver Island\"],\"legendgroup\":\"north_america\",\"marker\":{\"color\":\"#00cc96\",\"size\":[3,5,3,4,5,5,4,3,5,4,5,5,4,3,5,3,4,4,3,3,5,3,4,3,4,5,5,4,4,4,3,3,3,3,4,3,5,5,3,4,4,4,4,3,4,3,4,4,3,4,3,5,5,3,3,3,4,4,3,4,2,4,4,4,3,5,3,4,4,4,4,4,4,5,4,5,4,4,4,5,3,3,4,3,5,3,3,3,3,5,2,2,3,3,2,3,4,3,3,4,3,2,3,3],\"sizemode\":\"area\",\"sizeref\":0.0125,\"symbol\":\"circle\"},\"mode\":\"markers\",\"name\":\"north_america\",\"orientation\":\"v\",\"showlegend\":true,\"x\":[5,3,4,3,3,3,3,3,2,3,3,3,3,3,3,4,3,3,5,3,3,4,3,3,3,3,3,3,3,3,4,3,4,4,3,3,3,2,4,3,4,2,2,2,3,4,3,2,3,3,4,3,3,4,3,5,3,3,3,2,3,4,3,3,4,3,4,3,3,3,5,4,3,2,3,3,3,3,3,3,3,4,4,3,3,4,4,3,4,3,5,5,4,4,4,4,3,4,4,3,4,5,4,4],\"xaxis\":\"x\",\"y\":[3,3,2,4,5,5,3,4,4,5,5,3,3,4,3,2,4,3,2,3,3,3,4,3,4,5,3,4,3,4,3,3,4,3,4,5,4,4,3,4,4,5,3,3,4,3,3,4,3,4,3,5,4,2,3,2,2,3,5,3,3,3,3,4,3,4,2,3,3,3,3,3,3,3,3,3,4,5,3,4,3,4,4,3,3,3,3,4,4,3,1,3,4,4,2,5,3,3,4,3,3,1,4,2],\"yaxis\":\"y\",\"type\":\"scatter\"},{\"customdata\":[[\"Indonesia\"],[\"Georgia\"],[\"Japan\"],[\"Myanmar\"],[\"South Korea\"],[\"Turkey\"],[\"Japan\"],[\"Maldives\"],[\"Indonesia\"],[\"Cambodia\"],[\"China\"],[\"Nepal\"],[\"Turkey\"],[\"Sri Lanka\"],[\"Singapore\"],[\"South Korea\"],[\"Vietnam\"],[\"India\"],[\"Indonesia\"],[\"Taiwan\"],[\"Japan\"],[\"Japan\"],[\"Japan\"],[\"Kazakhstan\"],[\"Laos\"],[\"Malaysia\"],[\"Thailand\"],[\"Philippines\"],[\"Philippines\"],[\"China\"],[\"South Korea\"],[\"Thailand\"],[\"India\"],[\"Thailand\"],[\"Thailand\"],[\"Sri Lanka\"],[\"India\"],[\"Turkmenistan\"],[\"Uzbekistan\"],[\"China\"],[\"Malaysia\"],[\"Bangladesh\"],[\"Kyrgyzstan\"],[\"Cambodia\"],[\"India\"],[\"Japan\"],[\"Vietnam\"],[\"Vietnam\"],[\"Bhutan\"],[\"Uzbekistan\"],[\"Pakistan\"],[\"China\"],[\"Tajikistan\"],[\"Japan\"],[\"Taiwan\"],[\"Azerbaijan\"],[\"China\"],[\"India\"],[\"Indonesia\"],[\"Japan\"],[\"Kazakhstan\"],[\"Mongolia\"],[\"Nepal\"],[\"Philippines\"],[\"Thailand\"],[\"China\"],[\"China\"],[\"China\"],[\"Japan\"],[\"India\"],[\"Vietnam\"],[\"India\"],[\"Japan\"],[\"Laos\"],[\"Philippines\"],[\"Bhutan\"],[\"Uzbekistan\"],[\"Vietnam\"],[\"China\"],[\"Hong Kong\"],[\"Uzbekistan\"],[\"Indonesia\"],[\"Georgia\"],[\"Russia\"],[\"Russia\"],[\"Russia\"],[\"Russia\"],[\"India\"],[\"Pakistan\"],[\"Malaysia\"],[\"Turkey\"],[\"Turkey\"],[\"Sri Lanka\"],[\"Myanmar\"],[\"Vietnam\"],[\"Vietnam\"],[\"India\"],[\"Sri Lanka\"],[\"Myanmar\"]],\"hovertemplate\":\"\\u003cb\\u003e%{hovertext}\\u003c\\u002fb\\u003e\\u003cbr\\u003e\\u003cbr\\u003eregion=asia\\u003cbr\\u003eadventure=%{x}\\u003cbr\\u003enightlife=%{y}\\u003cbr\\u003eculture=%{marker.size}\\u003cbr\\u003ecountry=%{customdata[0]}\\u003cextra\\u003e\\u003c\\u002fextra\\u003e\",\"hovertext\":[\"Surabaya\",\"Tbilisi\",\"Nagasaki\",\"Bagan\",\"Seoul\",\"Ankara\",\"Kyoto\",\"Malé\",\"Raja Ampat\",\"Phnom Penh\",\"Shanghai\",\"Kathmandu\",\"Izmir\",\"Colombo\",\"Singapore\",\"Jeju Island\",\"Hoi An\",\"Kolkata\",\"Yogyakarta\",\"Taipei\",\"Tokyo\",\"Nagoya\",\"Fukuoka\",\"Astana\",\"Luang Prabang\",\"Kuching\",\"Chiang Rai\",\"Manila\",\"Davao\",\"Chengdu\",\"Busan\",\"Koh Lanta\",\"Mumbai\",\"Bangkok\",\"Krabi\",\"Galle\",\"Ladakh\",\"Ashgabat\",\"Tashkent\",\"Yangshuo\",\"Kuala Lumpur\",\"Dhaka\",\"Bishkek\",\"Siem Reap\",\"Jaipur\",\"Takayama\",\"Da Lat\",\"Sapa\",\"Bhutan\",\"Samarkand\",\"Lahore\",\"Suzhou\",\"Dushanbe\",\"Nara\",\"Hualien\",\"Baku\",\"Guilin\",\"Jodhpur\",\"Bandung\",\"Sapporo\",\"Almaty\",\"Ulaanbaatar\",\"Pokhara\",\"Cebu\",\"Chiang Mai\",\"Harbin\",\"Beijing\",\"Lhasa\",\"Osaka\",\"Varanasi\",\"Ho Chi Minh City\",\"Delhi\",\"Hiroshima\",\"Vientiane\",\"Palawan\",\"Thimphu\",\"Bukhara\",\"Hanoi\",\"Macau\",\"Hong Kong\",\"Khiva\",\"Ubud\",\"Batumi\",\"Vladivostok\",\"Murmansk\",\"Moscow\",\"St Petersburg\",\"Goa\",\"Islamabad\",\"Kota Kinabalu\",\"Antalya\",\"Cappadocia\",\"Kandy\",\"Yangon\",\"Hue\",\"Ha Long\",\"Amritsar\",\"Nuwara Eliya\",\"Naypyidaw\"],\"legendgroup\":\"asia\",\"marker\":{\"color\":\"#ab63fa\",\"size\":[4,4,4,5,5,4,5,2,2,4,5,5,4,4,4,3,5,5,5,4,5,4,4,3,5,4,4,4,3,5,4,3,5,5,3,4,4,3,4,3,4,4,3,5,5,5,3,4,5,5,5,5,3,5,3,4,3,5,4,4,4,4,3,3,5,4,5,5,4,5,4,5,5,4,3,5,5,5,4,5,5,4,3,4,3,5,5,4,4,3,4,4,5,4,5,3,5,3,2],\"sizemode\":\"area\",\"sizeref\":0.0125,\"symbol\":\"circle\"},\"mode\":\"markers\",\"name\":\"asia\",\"orientation\":\"v\",\"showlegend\":true,\"x\":[3,3,2,3,3,2,2,3,4,3,3,4,3,3,3,4,3,2,3,3,2,2,3,2,3,3,3,3,4,3,3,4,3,3,4,3,5,2,3,4,3,2,4,3,3,2,4,4,4,3,3,2,4,2,4,3,4,3,3,3,4,4,5,4,4,3,3,4,2,2,3,3,2,3,4,3,2,3,3,3,2,3,3,3,3,3,2,4,3,4,4,4,3,3,3,4,2,3,2],\"xaxis\":\"x\",\"y\":[3,3,3,1,5,3,2,2,1,3,5,2,3,3,4,3,2,3,3,4,5,3,4,3,2,3,2,4,3,3,4,3,4,5,3,2,1,2,3,2,4,3,3,3,3,2,2,2,1,2,3,3,2,2,2,4,2,2,3,3,3,3,2,3,3,3,4,1,4,2,4,4,3,2,2,2,2,3,5,5,2,2,3,3,2,4,4,5,2,3,4,2,2,2,2,2,2,2,1],\"yaxis\":\"y\",\"type\":\"scatter\"},{\"customdata\":[[\"Namibia\"],[\"Zambia\"],[\"Angola\"],[\"Benin\"],[\"Morocco\"],[\"Mozambique\"],[\"Tanzania\"],[\"Egypt\"],[\"Equatorial Guinea\"],[\"Eswatini\"],[\"Senegal\"],[\"Kenya\"],[\"Lesotho\"],[\"Mauritius\"],[\"Mozambique\"],[\"South Africa\"],[\"Morocco\"],[\"Sierra Leone\"],[\"Réunion\"],[\"South Africa\"],[\"São Tomé and Príncipe\"],[\"Seychelles\"],[\"Tanzania\"],[\"South Africa\"],[\"Tanzania\"],[\"Madagascar\"],[\"Togo\"],[\"Tunisia\"],[\"Morocco\"],[\"Namibia\"],[\"Malawi\"],[\"Egypt\"],[\"Egypt\"],[\"Kenya\"],[\"Burundi\"],[\"Cameroon\"],[\"Cape Verde\"],[\"Egypt\"],[\"Gabon\"],[\"Ivory Coast\"],[\"Morocco\"],[\"Republic of the Congo\"],[\"Rwanda\"],[\"Senegal\"],[\"South Africa\"],[\"Tunisia\"],[\"Uganda\"],[\"Cape Verde\"],[\"Comoros\"],[\"Egypt\"],[\"Egypt\"],[\"Gambia\"],[\"Zambia\"],[\"Morocco\"],[\"Seychelles\"],[\"Tanzania\"],[\"Ghana\"],[\"Zimbabwe\"],[\"Morocco\"],[\"Morocco\"],[\"Egypt\"],[\"Tunisia\"],[\"Botswana\"]],\"hovertemplate\":\"\\u003cb\\u003e%{hovertext}\\u003c\\u002fb\\u003e\\u003cbr\\u003e\\u003cbr\\u003eregion=africa\\u003cbr\\u003eadventure=%{x}\\u003cbr\\u003enightlife=%{y}\\u003cbr\\u003eculture=%{marker.size}\\u003cbr\\u003ecountry=%{customdata[0]}\\u003cextra\\u003e\\u003c\\u002fextra\\u003e\",\"hovertext\":[\"Windhoek\",\"Livingstone\",\"Luanda\",\"Cotonou\",\"Fès\",\"Maputo\",\"Dar es Salaam\",\"Cairo\",\"Malabo\",\"Mbabane\",\"Dakar\",\"Nairobi\",\"Maseru\",\"Port Louis\",\"Beira\",\"Pretoria\",\"Rabat\",\"Freetown\",\"Saint-Denis\",\"Cape Town\",\"São Tomé\",\"Victoria\",\"Stone Town\",\"Johannesburg\",\"Zanzibar Town\",\"Antananarivo\",\"Lomé\",\"Tunis\",\"Chefchaouen\",\"Namibia\",\"Blantyre\",\"Luxor\",\"Siwa Oasis\",\"Mombasa\",\"Bujumbura\",\"Yaoundé\",\"Sal\",\"Alexandria\",\"Libreville\",\"Yamoussoukro\",\"Essaouira\",\"Brazzaville\",\"Kigali\",\"Gorée Island\",\"Durban\",\"Kairouan\",\"Kampala\",\"Praia\",\"Moroni\",\"Aswan\",\"Giza\",\"Banjul\",\"Lusaka\",\"Marrakesh\",\"Seychelles\",\"Zanzibar\",\"Accra\",\"Harare\",\"Casablanca\",\"Meknes\",\"Sharm El Sheikh\",\"Sidi Bou Said\",\"Maun\"],\"legendgroup\":\"africa\",\"marker\":{\"color\":\"#FFA15A\",\"size\":[3,3,3,4,5,3,4,5,3,3,4,4,3,4,3,4,4,3,4,4,3,3,5,4,4,4,3,4,4,3,3,5,4,4,3,4,2,4,3,4,4,3,4,5,3,5,4,3,3,5,5,3,3,5,2,4,4,3,4,4,3,4,3],\"sizemode\":\"area\",\"sizeref\":0.0125,\"symbol\":\"circle\"},\"mode\":\"markers\",\"name\":\"africa\",\"orientation\":\"v\",\"showlegend\":true,\"x\":[4,5,3,3,2,3,3,3,3,3,3,4,4,3,3,3,2,3,4,4,4,4,3,3,3,4,3,3,3,5,3,3,3,4,3,3,3,2,3,2,3,3,3,2,4,2,3,3,3,3,3,3,3,3,3,4,3,3,3,2,4,2,5],\"xaxis\":\"x\",\"y\":[3,2,3,3,2,3,3,3,2,2,3,3,2,3,2,3,3,3,3,4,2,3,3,4,3,3,2,3,2,2,2,2,1,3,2,3,3,3,3,2,3,2,2,1,3,2,3,3,2,2,2,2,2,4,2,3,3,2,4,2,4,3,2],\"yaxis\":\"y\",\"type\":\"scatter\"},{\"customdata\":[[\"Jordan\"],[\"Jordan\"],[\"Jordan\"],[\"Qatar\"],[\"Oman\"],[\"Oman\"],[\"Bahrain\"],[\"United Arab Emirates\"],[\"United Arab Emirates\"],[\"Iran\"],[\"Kuwait\"]],\"hovertemplate\":\"\\u003cb\\u003e%{hovertext}\\u003c\\u002fb\\u003e\\u003cbr\\u003e\\u003cbr\\u003eregion=middle_east\\u003cbr\\u003eadventure=%{x}\\u003cbr\\u003enightlife=%{y}\\u003cbr\\u003eculture=%{marker.size}\\u003cbr\\u003ecountry=%{customdata[0]}\\u003cextra\\u003e\\u003c\\u002fextra\\u003e\",\"hovertext\":[\"Petra\",\"Wadi Rum\",\"Amman\",\"Doha\",\"Salalah\",\"Muscat\",\"Manama\",\"Dubai\",\"Abu Dhabi\",\"Tehran\",\"Kuwait City\"],\"legendgroup\":\"middle_east\",\"marker\":{\"color\":\"#19d3f3\",\"size\":[5,3,4,4,3,4,4,4,4,5,3],\"sizemode\":\"area\",\"sizeref\":0.0125,\"symbol\":\"circle\"},\"mode\":\"markers\",\"name\":\"middle_east\",\"orientation\":\"v\",\"showlegend\":true,\"x\":[4,5,3,3,3,3,3,4,3,3,2],\"xaxis\":\"x\",\"y\":[1,1,3,3,2,2,4,5,3,3,3],\"yaxis\":\"y\",\"type\":\"scatter\"},{\"customdata\":[[\"Brazil\"],[\"Brazil\"],[\"Chile\"],[\"Colombia\"],[\"Colombia\"],[\"Ecuador\"],[\"Peru\"],[\"Guyana\"],[\"Suriname\"],[\"Peru\"],[\"Paraguay\"],[\"Argentina\"],[\"Chile\"],[\"Argentina\"],[\"Ecuador\"],[\"Venezuela\"],[\"Chile\"],[\"Brazil\"],[\"Peru\"],[\"Argentina\"],[\"Argentina\"],[\"Bolivia\"],[\"Brazil\"],[\"Argentina\"],[\"Bolivia\"],[\"Uruguay\"],[\"Argentina\"],[\"Ecuador\"],[\"Venezuela\"],[\"Colombia\"],[\"Ecuador\"],[\"French Guiana\"],[\"Chile\"],[\"Uruguay\"],[\"Chile\"],[\"Brazil\"],[\"Chile\"],[\"Argentina\"],[\"Bolivia\"],[\"Peru\"],[\"Argentina\"],[\"Colombia\"],[\"Colombia\"],[\"Colombia\"],[\"Brazil\"],[\"Colombia\"],[\"Brazil\"],[\"Brazil\"],[\"Argentina\"],[\"Peru\"],[\"Argentina\"],[\"Peru\"],[\"Chile\"],[\"Chile\"],[\"Bolivia\"]],\"hovertemplate\":\"\\u003cb\\u003e%{hovertext}\\u003c\\u002fb\\u003e\\u003cbr\\u003e\\u003cbr\\u003eregion=south_america\\u003cbr\\u003eadventure=%{x}\\u003cbr\\u003enightlife=%{y}\\u003cbr\\u003eculture=%{marker.size}\\u003cbr\\u003ecountry=%{customdata[0]}\\u003cextra\\u003e\\u003c\\u002fextra\\u003e\",\"hovertext\":[\"Rio de Janeiro\",\"Curitiba\",\"Santiago de Chile\",\"Bogotá\",\"Cartagena\",\"Baños\",\"Iquitos\",\"Georgetown\",\"Paramaribo\",\"Arequipa\",\"Asunción\",\"El Chaltén\",\"Valdivia\",\"Salta\",\"Galápagos Islands\",\"Caracas\",\"San Pedro de Atacama\",\"Sao Paulo\",\"Cuzco\",\"Buenos Aires\",\"Córdoba\",\"Santa Cruz\",\"Salvador da Bahia\",\"Ushuaia\",\"La Paz\",\"Montevideo\",\"Mendoza\",\"Cuenca\",\"San Cristobal\",\"Salento\",\"Quito\",\"Cayenne\",\"Valparaíso\",\"Punta del Este\",\"Rapa Nui\",\"Fortaleza\",\"Antofagasta\",\"Bariloche\",\"Santa Cruz de la Sierra\",\"Lima\",\"Iguazu Falls\",\"Santa Marta\",\"Cali\",\"Medellín\",\"Manaus\",\"San Andrés\",\"Búzios\",\"Florianópolis\",\"San Carlos de Bariloche\",\"Machu Picchu\",\"Rosario\",\"Nazca\",\"Arica\",\"Viña del Mar\",\"Sucre\"],\"legendgroup\":\"south_america\",\"marker\":{\"color\":\"#FF6692\",\"size\":[4,4,4,4,5,3,3,4,4,4,3,2,3,4,3,4,3,5,5,5,4,3,5,3,4,4,3,5,3,4,5,3,4,3,5,3,3,3,3,5,3,4,4,4,4,2,3,3,3,5,4,4,3,3,4],\"sizemode\":\"area\",\"sizeref\":0.0125,\"symbol\":\"circle\"},\"mode\":\"markers\",\"name\":\"south_america\",\"orientation\":\"v\",\"showlegend\":true,\"x\":[4,3,4,3,3,5,5,4,3,3,2,5,4,4,5,3,5,3,4,3,3,4,3,5,4,3,4,3,3,4,4,4,3,3,3,4,3,5,3,3,5,4,3,4,4,4,4,4,5,5,3,3,4,3,3],\"xaxis\":\"x\",\"y\":[5,3,4,4,4,3,2,3,3,3,3,2,3,3,1,3,2,5,3,5,3,3,4,2,3,3,3,3,3,2,3,2,4,5,2,4,2,3,3,4,2,3,5,4,3,3,4,4,3,1,4,2,3,4,2],\"yaxis\":\"y\",\"type\":\"scatter\"}],                        {\"template\":{\"data\":{\"histogram2dcontour\":[{\"type\":\"histogram2dcontour\",\"colorbar\":{\"outlinewidth\":0,\"ticks\":\"\"},\"colorscale\":[[0.0,\"#0d0887\"],[0.1111111111111111,\"#46039f\"],[0.2222222222222222,\"#7201a8\"],[0.3333333333333333,\"#9c179e\"],[0.4444444444444444,\"#bd3786\"],[0.5555555555555556,\"#d8576b\"],[0.6666666666666666,\"#ed7953\"],[0.7777777777777778,\"#fb9f3a\"],[0.8888888888888888,\"#fdca26\"],[1.0,\"#f0f921\"]]}],\"choropleth\":[{\"type\":\"choropleth\",\"colorbar\":{\"outlinewidth\":0,\"ticks\":\"\"}}],\"histogram2d\":[{\"type\":\"histogram2d\",\"colorbar\":{\"outlinewidth\":0,\"ticks\":\"\"},\"colorscale\":[[0.0,\"#0d0887\"],[0.1111111111111111,\"#46039f\"],[0.2222222222222222,\"#7201a8\"],[0.3333333333333333,\"#9c179e\"],[0.4444444444444444,\"#bd3786\"],[0.5555555555555556,\"#d8576b\"],[0.6666666666666666,\"#ed7953\"],[0.7777777777777778,\"#fb9f3a\"],[0.8888888888888888,\"#fdca26\"],[1.0,\"#f0f921\"]]}],\"heatmap\":[{\"type\":\"heatmap\",\"colorbar\":{\"outlinewidth\":0,\"ticks\":\"\"},\"colorscale\":[[0.0,\"#0d0887\"],[0.1111111111111111,\"#46039f\"],[0.2222222222222222,\"#7201a8\"],[0.3333333333333333,\"#9c179e\"],[0.4444444444444444,\"#bd3786\"],[0.5555555555555556,\"#d8576b\"],[0.6666666666666666,\"#ed7953\"],[0.7777777777777778,\"#fb9f3a\"],[0.8888888888888888,\"#fdca26\"],[1.0,\"#f0f921\"]]}],\"heatmapgl\":[{\"type\":\"heatmapgl\",\"colorbar\":{\"outlinewidth\":0,\"ticks\":\"\"},\"colorscale\":[[0.0,\"#0d0887\"],[0.1111111111111111,\"#46039f\"],[0.2222222222222222,\"#7201a8\"],[0.3333333333333333,\"#9c179e\"],[0.4444444444444444,\"#bd3786\"],[0.5555555555555556,\"#d8576b\"],[0.6666666666666666,\"#ed7953\"],[0.7777777777777778,\"#fb9f3a\"],[0.8888888888888888,\"#fdca26\"],[1.0,\"#f0f921\"]]}],\"contourcarpet\":[{\"type\":\"contourcarpet\",\"colorbar\":{\"outlinewidth\":0,\"ticks\":\"\"}}],\"contour\":[{\"type\":\"contour\",\"colorbar\":{\"outlinewidth\":0,\"ticks\":\"\"},\"colorscale\":[[0.0,\"#0d0887\"],[0.1111111111111111,\"#46039f\"],[0.2222222222222222,\"#7201a8\"],[0.3333333333333333,\"#9c179e\"],[0.4444444444444444,\"#bd3786\"],[0.5555555555555556,\"#d8576b\"],[0.6666666666666666,\"#ed7953\"],[0.7777777777777778,\"#fb9f3a\"],[0.8888888888888888,\"#fdca26\"],[1.0,\"#f0f921\"]]}],\"surface\":[{\"type\":\"surface\",\"colorbar\":{\"outlinewidth\":0,\"ticks\":\"\"},\"colorscale\":[[0.0,\"#0d0887\"],[0.1111111111111111,\"#46039f\"],[0.2222222222222222,\"#7201a8\"],[0.3333333333333333,\"#9c179e\"],[0.4444444444444444,\"#bd3786\"],[0.5555555555555556,\"#d8576b\"],[0.6666666666666666,\"#ed7953\"],[0.7777777777777778,\"#fb9f3a\"],[0.8888888888888888,\"#fdca26\"],[1.0,\"#f0f921\"]]}],\"mesh3d\":[{\"type\":\"mesh3d\",\"colorbar\":{\"outlinewidth\":0,\"ticks\":\"\"}}],\"scatter\":[{\"fillpattern\":{\"fillmode\":\"overlay\",\"size\":10,\"solidity\":0.2},\"type\":\"scatter\"}],\"parcoords\":[{\"type\":\"parcoords\",\"line\":{\"colorbar\":{\"outlinewidth\":0,\"ticks\":\"\"}}}],\"scatterpolargl\":[{\"type\":\"scatterpolargl\",\"marker\":{\"colorbar\":{\"outlinewidth\":0,\"ticks\":\"\"}}}],\"bar\":[{\"error_x\":{\"color\":\"#2a3f5f\"},\"error_y\":{\"color\":\"#2a3f5f\"},\"marker\":{\"line\":{\"color\":\"#E5ECF6\",\"width\":0.5},\"pattern\":{\"fillmode\":\"overlay\",\"size\":10,\"solidity\":0.2}},\"type\":\"bar\"}],\"scattergeo\":[{\"type\":\"scattergeo\",\"marker\":{\"colorbar\":{\"outlinewidth\":0,\"ticks\":\"\"}}}],\"scatterpolar\":[{\"type\":\"scatterpolar\",\"marker\":{\"colorbar\":{\"outlinewidth\":0,\"ticks\":\"\"}}}],\"histogram\":[{\"marker\":{\"pattern\":{\"fillmode\":\"overlay\",\"size\":10,\"solidity\":0.2}},\"type\":\"histogram\"}],\"scattergl\":[{\"type\":\"scattergl\",\"marker\":{\"colorbar\":{\"outlinewidth\":0,\"ticks\":\"\"}}}],\"scatter3d\":[{\"type\":\"scatter3d\",\"line\":{\"colorbar\":{\"outlinewidth\":0,\"ticks\":\"\"}},\"marker\":{\"colorbar\":{\"outlinewidth\":0,\"ticks\":\"\"}}}],\"scattermapbox\":[{\"type\":\"scattermapbox\",\"marker\":{\"colorbar\":{\"outlinewidth\":0,\"ticks\":\"\"}}}],\"scatterternary\":[{\"type\":\"scatterternary\",\"marker\":{\"colorbar\":{\"outlinewidth\":0,\"ticks\":\"\"}}}],\"scattercarpet\":[{\"type\":\"scattercarpet\",\"marker\":{\"colorbar\":{\"outlinewidth\":0,\"ticks\":\"\"}}}],\"carpet\":[{\"aaxis\":{\"endlinecolor\":\"#2a3f5f\",\"gridcolor\":\"white\",\"linecolor\":\"white\",\"minorgridcolor\":\"white\",\"startlinecolor\":\"#2a3f5f\"},\"baxis\":{\"endlinecolor\":\"#2a3f5f\",\"gridcolor\":\"white\",\"linecolor\":\"white\",\"minorgridcolor\":\"white\",\"startlinecolor\":\"#2a3f5f\"},\"type\":\"carpet\"}],\"table\":[{\"cells\":{\"fill\":{\"color\":\"#EBF0F8\"},\"line\":{\"color\":\"white\"}},\"header\":{\"fill\":{\"color\":\"#C8D4E3\"},\"line\":{\"color\":\"white\"}},\"type\":\"table\"}],\"barpolar\":[{\"marker\":{\"line\":{\"color\":\"#E5ECF6\",\"width\":0.5},\"pattern\":{\"fillmode\":\"overlay\",\"size\":10,\"solidity\":0.2}},\"type\":\"barpolar\"}],\"pie\":[{\"automargin\":true,\"type\":\"pie\"}]},\"layout\":{\"autotypenumbers\":\"strict\",\"colorway\":[\"#636efa\",\"#EF553B\",\"#00cc96\",\"#ab63fa\",\"#FFA15A\",\"#19d3f3\",\"#FF6692\",\"#B6E880\",\"#FF97FF\",\"#FECB52\"],\"font\":{\"color\":\"#2a3f5f\"},\"hovermode\":\"closest\",\"hoverlabel\":{\"align\":\"left\"},\"paper_bgcolor\":\"white\",\"plot_bgcolor\":\"#E5ECF6\",\"polar\":{\"bgcolor\":\"#E5ECF6\",\"angularaxis\":{\"gridcolor\":\"white\",\"linecolor\":\"white\",\"ticks\":\"\"},\"radialaxis\":{\"gridcolor\":\"white\",\"linecolor\":\"white\",\"ticks\":\"\"}},\"ternary\":{\"bgcolor\":\"#E5ECF6\",\"aaxis\":{\"gridcolor\":\"white\",\"linecolor\":\"white\",\"ticks\":\"\"},\"baxis\":{\"gridcolor\":\"white\",\"linecolor\":\"white\",\"ticks\":\"\"},\"caxis\":{\"gridcolor\":\"white\",\"linecolor\":\"white\",\"ticks\":\"\"}},\"coloraxis\":{\"colorbar\":{\"outlinewidth\":0,\"ticks\":\"\"}},\"colorscale\":{\"sequential\":[[0.0,\"#0d0887\"],[0.1111111111111111,\"#46039f\"],[0.2222222222222222,\"#7201a8\"],[0.3333333333333333,\"#9c179e\"],[0.4444444444444444,\"#bd3786\"],[0.5555555555555556,\"#d8576b\"],[0.6666666666666666,\"#ed7953\"],[0.7777777777777778,\"#fb9f3a\"],[0.8888888888888888,\"#fdca26\"],[1.0,\"#f0f921\"]],\"sequentialminus\":[[0.0,\"#0d0887\"],[0.1111111111111111,\"#46039f\"],[0.2222222222222222,\"#7201a8\"],[0.3333333333333333,\"#9c179e\"],[0.4444444444444444,\"#bd3786\"],[0.5555555555555556,\"#d8576b\"],[0.6666666666666666,\"#ed7953\"],[0.7777777777777778,\"#fb9f3a\"],[0.8888888888888888,\"#fdca26\"],[1.0,\"#f0f921\"]],\"diverging\":[[0,\"#8e0152\"],[0.1,\"#c51b7d\"],[0.2,\"#de77ae\"],[0.3,\"#f1b6da\"],[0.4,\"#fde0ef\"],[0.5,\"#f7f7f7\"],[0.6,\"#e6f5d0\"],[0.7,\"#b8e186\"],[0.8,\"#7fbc41\"],[0.9,\"#4d9221\"],[1,\"#276419\"]]},\"xaxis\":{\"gridcolor\":\"white\",\"linecolor\":\"white\",\"ticks\":\"\",\"title\":{\"standoff\":15},\"zerolinecolor\":\"white\",\"automargin\":true,\"zerolinewidth\":2},\"yaxis\":{\"gridcolor\":\"white\",\"linecolor\":\"white\",\"ticks\":\"\",\"title\":{\"standoff\":15},\"zerolinecolor\":\"white\",\"automargin\":true,\"zerolinewidth\":2},\"scene\":{\"xaxis\":{\"backgroundcolor\":\"#E5ECF6\",\"gridcolor\":\"white\",\"linecolor\":\"white\",\"showbackground\":true,\"ticks\":\"\",\"zerolinecolor\":\"white\",\"gridwidth\":2},\"yaxis\":{\"backgroundcolor\":\"#E5ECF6\",\"gridcolor\":\"white\",\"linecolor\":\"white\",\"showbackground\":true,\"ticks\":\"\",\"zerolinecolor\":\"white\",\"gridwidth\":2},\"zaxis\":{\"backgroundcolor\":\"#E5ECF6\",\"gridcolor\":\"white\",\"linecolor\":\"white\",\"showbackground\":true,\"ticks\":\"\",\"zerolinecolor\":\"white\",\"gridwidth\":2}},\"shapedefaults\":{\"line\":{\"color\":\"#2a3f5f\"}},\"annotationdefaults\":{\"arrowcolor\":\"#2a3f5f\",\"arrowhead\":0,\"arrowwidth\":1},\"geo\":{\"bgcolor\":\"white\",\"landcolor\":\"#E5ECF6\",\"subunitcolor\":\"white\",\"showland\":true,\"showlakes\":true,\"lakecolor\":\"white\"},\"title\":{\"x\":0.05},\"mapbox\":{\"style\":\"light\"}}},\"xaxis\":{\"anchor\":\"y\",\"domain\":[0.0,1.0],\"title\":{\"text\":\"adventure\"}},\"yaxis\":{\"anchor\":\"x\",\"domain\":[0.0,1.0],\"title\":{\"text\":\"nightlife\"}},\"legend\":{\"title\":{\"text\":\"region\"},\"tracegroupgap\":0,\"itemsizing\":\"constant\"},\"title\":{\"text\":\"Adventure vs. Nightlife Ratings (Size indicates Culture Score)\"}},                        {\"responsive\": true}                    ).then(function(){\n",
              "                            \n",
              "var gd = document.getElementById('5df1b62c-e5ff-409f-a26b-da63255bf228');\n",
              "var x = new MutationObserver(function (mutations, observer) {{\n",
              "        var display = window.getComputedStyle(gd).display;\n",
              "        if (!display || display === 'none') {{\n",
              "            console.log([gd, 'removed!']);\n",
              "            Plotly.purge(gd);\n",
              "            observer.disconnect();\n",
              "        }}\n",
              "}});\n",
              "\n",
              "// Listen for the removal of the full notebook cells\n",
              "var notebookContainer = gd.closest('#notebook-container');\n",
              "if (notebookContainer) {{\n",
              "    x.observe(notebookContainer, {childList: true});\n",
              "}}\n",
              "\n",
              "// Listen for the clearing of the current output cell\n",
              "var outputEl = gd.closest('.output');\n",
              "if (outputEl) {{\n",
              "    x.observe(outputEl, {childList: true});\n",
              "}}\n",
              "\n",
              "                        })                };                            </script>        </div>\n",
              "</body>\n",
              "</html>"
            ]
          },
          "metadata": {}
        }
      ]
    },
    {
      "cell_type": "markdown",
      "source": [
        "**Q:6**"
      ],
      "metadata": {
        "id": "liLymxKtA3Qp"
      }
    },
    {
      "cell_type": "code",
      "source": [
        "import json\n",
        "# the city (e.g., Barcelona)\n",
        "city_name = \"Barcelona\"\n",
        "city_row = df[df['city'] == city_name]\n",
        "\n",
        "# Check if city exists\n",
        "if city_row.empty:\n",
        "    print(f\"{city_name} not found in the dataset.\")\n",
        "else:\n",
        "    # Parse the JSON from avg_temp_monthly\n",
        "    climate_json = city_row['avg_temp_monthly'].values[0]\n",
        "    climate_data = json.loads(climate_json)\n",
        "\n",
        "    # Extract average temperatures for each month\n",
        "    months = [str(i) for i in range(1, 13)]\n",
        "    avg_temps = [climate_data[month][\"avg\"] for month in months]\n",
        "\n",
        "    # Plotting\n",
        "    plt.figure(figsize=(10, 5))\n",
        "    plt.plot(months, avg_temps, marker='o', linestyle='-', color='skyblue')\n",
        "    plt.title(f\"Monthly Average Temperatures - {city_name}\")\n",
        "    plt.xlabel(\"Month\")\n",
        "    plt.ylabel(\"Average Temperature (°C)\")\n",
        "    plt.grid(True)\n",
        "    plt.xticks(months)\n",
        "    plt.show()"
      ],
      "metadata": {
        "colab": {
          "base_uri": "https://localhost:8080/",
          "height": 487
        },
        "id": "ohwjaDTGBSvZ",
        "outputId": "bf568e8b-d817-4874-dcc6-890670e0ab36"
      },
      "execution_count": null,
      "outputs": [
        {
          "output_type": "display_data",
          "data": {
            "text/plain": [
              "<Figure size 1000x500 with 1 Axes>"
            ],
            "image/png": "[encoded data removed]"
          },
          "metadata": {}
        }
      ]
    },
    {
      "cell_type": "markdown",
      "source": [
        "**Section C: Dashboard Task Using Dash**"
      ],
      "metadata": {
        "id": "IC1ElDQkChUY"
      }
    },
    {
      "cell_type": "markdown",
      "source": [
        "**Q:7**"
      ],
      "metadata": {
        "id": "FJb_sdNBCqIg"
      }
    },
    {
      "cell_type": "code",
      "source": [
        "!pip install dash"
      ],
      "metadata": {
        "colab": {
          "base_uri": "https://localhost:8080/"
        },
        "id": "E_k82r22CieS",
        "outputId": "c81271d9-61f6-48b5-c605-83917a4fcf45"
      },
      "execution_count": null,
      "outputs": [
        {
          "output_type": "stream",
          "name": "stdout",
          "text": [
            "Collecting dash\n",
            "  Downloading dash-3.0.4-py3-none-any.whl.metadata (10 kB)\n",
            "Collecting Flask<3.1,>=1.0.4 (from dash)\n",
            "  Downloading flask-3.0.3-py3-none-any.whl.metadata (3.2 kB)\n",
            "Collecting Werkzeug<3.1 (from dash)\n",
            "  Downloading werkzeug-3.0.6-py3-none-any.whl.metadata (3.7 kB)\n",
            "Requirement already satisfied: plotly>=5.0.0 in /usr/local/lib/python3.11/dist-packages (from dash) (5.24.1)\n",
            "Requirement already satisfied: importlib-metadata in /usr/local/lib/python3.11/dist-packages (from dash) (8.7.0)\n",
            "Requirement already satisfied: typing-extensions>=4.1.1 in /usr/local/lib/python3.11/dist-packages (from dash) (4.14.0)\n",
            "Requirement already satisfied: requests in /usr/local/lib/python3.11/dist-packages (from dash) (2.32.3)\n",
            "Collecting retrying (from dash)\n",
            "  Downloading retrying-1.3.4-py3-none-any.whl.metadata (6.9 kB)\n",
            "Requirement already satisfied: nest-asyncio in /usr/local/lib/python3.11/dist-packages (from dash) (1.6.0)\n",
            "Requirement already satisfied: setuptools in /usr/local/lib/python3.11/dist-packages (from dash) (75.2.0)\n",
            "Requirement already satisfied: Jinja2>=3.1.2 in /usr/local/lib/python3.11/dist-packages (from Flask<3.1,>=1.0.4->dash) (3.1.6)\n",
            "Requirement already satisfied: itsdangerous>=2.1.2 in /usr/local/lib/python3.11/dist-packages (from Flask<3.1,>=1.0.4->dash) (2.2.0)\n",
            "Requirement already satisfied: click>=8.1.3 in /usr/local/lib/python3.11/dist-packages (from Flask<3.1,>=1.0.4->dash) (8.2.1)\n",
            "Requirement already satisfied: blinker>=1.6.2 in /usr/local/lib/python3.11/dist-packages (from Flask<3.1,>=1.0.4->dash) (1.9.0)\n",
            "Requirement already satisfied: tenacity>=6.2.0 in /usr/local/lib/python3.11/dist-packages (from plotly>=5.0.0->dash) (9.1.2)\n",
            "Requirement already satisfied: packaging in /usr/local/lib/python3.11/dist-packages (from plotly>=5.0.0->dash) (24.2)\n",
            "Requirement already satisfied: MarkupSafe>=2.1.1 in /usr/local/lib/python3.11/dist-packages (from Werkzeug<3.1->dash) (3.0.2)\n",
            "Requirement already satisfied: zipp>=3.20 in /usr/local/lib/python3.11/dist-packages (from importlib-metadata->dash) (3.23.0)\n",
            "Requirement already satisfied: charset-normalizer<4,>=2 in /usr/local/lib/python3.11/dist-packages (from requests->dash) (3.4.2)\n",
            "Requirement already satisfied: idna<4,>=2.5 in /usr/local/lib/python3.11/dist-packages (from requests->dash) (3.10)\n",
            "Requirement already satisfied: urllib3<3,>=1.21.1 in /usr/local/lib/python3.11/dist-packages (from requests->dash) (2.4.0)\n",
            "Requirement already satisfied: certifi>=2017.4.17 in /usr/local/lib/python3.11/dist-packages (from requests->dash) (2025.6.15)\n",
            "Requirement already satisfied: six>=1.7.0 in /usr/local/lib/python3.11/dist-packages (from retrying->dash) (1.17.0)\n",
            "Downloading dash-3.0.4-py3-none-any.whl (7.9 MB)\n",
            "\u001b[2K   \u001b[90m━━━━━━━━━━━━━━━━━━━━━━━━━━━━━━━━━━━━━━━━\u001b[0m \u001b[32m7.9/7.9 MB\u001b[0m \u001b[31m69.8 MB/s\u001b[0m eta \u001b[36m0:00:00\u001b[0m\n",
            "\u001b[?25hDownloading flask-3.0.3-py3-none-any.whl (101 kB)\n",
            "\u001b[2K   \u001b[90m━━━━━━━━━━━━━━━━━━━━━━━━━━━━━━━━━━━━━━━━\u001b[0m \u001b[32m101.7/101.7 kB\u001b[0m \u001b[31m9.1 MB/s\u001b[0m eta \u001b[36m0:00:00\u001b[0m\n",
            "\u001b[?25hDownloading werkzeug-3.0.6-py3-none-any.whl (227 kB)\n",
            "\u001b[2K   \u001b[90m━━━━━━━━━━━━━━━━━━━━━━━━━━━━━━━━━━━━━━━━\u001b[0m \u001b[32m228.0/228.0 kB\u001b[0m \u001b[31m20.8 MB/s\u001b[0m eta \u001b[36m0:00:00\u001b[0m\n",
            "\u001b[?25hDownloading retrying-1.3.4-py3-none-any.whl (11 kB)\n",
            "Installing collected packages: Werkzeug, retrying, Flask, dash\n",
            "  Attempting uninstall: Werkzeug\n",
            "    Found existing installation: Werkzeug 3.1.3\n",
            "    Uninstalling Werkzeug-3.1.3:\n",
            "      Successfully uninstalled Werkzeug-3.1.3\n",
            "  Attempting uninstall: Flask\n",
            "    Found existing installation: Flask 3.1.1\n",
            "    Uninstalling Flask-3.1.1:\n",
            "      Successfully uninstalled Flask-3.1.1\n",
            "Successfully installed Flask-3.0.3 Werkzeug-3.0.6 dash-3.0.4 retrying-1.3.4\n"
          ]
        }
      ]
    },
    {
      "cell_type": "code",
      "source": [
        "import dash\n",
        "from dash import dcc, html, Input, Output"
      ],
      "metadata": {
        "id": "Um2GDEm_C8L6"
      },
      "execution_count": null,
      "outputs": []
    },
    {
      "cell_type": "code",
      "source": [
        "# Parse the avg_temp_monthly column from string to dict\n",
        "df[\"avg_temp_monthly\"] = df[\"avg_temp_monthly\"].apply(json.loads)"
      ],
      "metadata": {
        "id": "Bgf958RpDLQ3"
      },
      "execution_count": null,
      "outputs": []
    },
    {
      "cell_type": "code",
      "source": [
        "# Initialize Dash app\n",
        "app = dash.Dash(__name__)\n",
        "app.title = \"City Explorer Dashboard\"\n",
        "\n",
        "# Light Theme (but keeping variable names as-is)\n",
        "dark_bg = \"#f5fafa\"        # Light background (main page)\n",
        "card_bg = \"#1E1E1E\"        # Can be used for graph bg if needed\n",
        "text_color = \"#000000\"     # Black text for readability\n",
        "accent_color = \"#4FC3F7\"   # Highlight color (buttons/headings)\n",
        "\n",
        "# App Layout\n",
        "app.layout = html.Div([\n",
        "    html.H1(\" Travel City Explorer\", style={\n",
        "        'textAlign': 'center',\n",
        "        'color': accent_color,\n",
        "        'marginTop': '20px'\n",
        "    }),\n",
        "\n",
        "    html.Div([\n",
        "        html.Div([\n",
        "            html.Label(\"Select Region:\", style={'color': text_color}),\n",
        "            dcc.Dropdown(\n",
        "                id='region-dropdown',\n",
        "                options=[{\"label\": region.title(), \"value\": region} for region in sorted(df[\"region\"].unique())],\n",
        "                placeholder=\"Choose a region\",\n",
        "                style={'backgroundColor': card_bg, 'color': text_color}\n",
        "            )\n",
        "        ], style={'width': '48%', 'display': 'inline-block', 'padding': '10px'}),\n",
        "\n",
        "        html.Div([\n",
        "            html.Label(\"Select Month:\", style={'color': text_color}),\n",
        "            dcc.Slider(\n",
        "                id='month-slider', min=1, max=12, step=1, value=6,\n",
        "                marks={i: str(i) for i in range(1, 13)},\n",
        "                tooltip={\"placement\": \"bottom\", \"always_visible\": True}\n",
        "            )\n",
        "        ], style={'width': '48%', 'display': 'inline-block', 'padding': '10px', 'float': 'right'})\n",
        "    ], style={'display': 'flex', 'justifyContent': 'space-between'}),\n",
        "\n",
        "    html.Div(id='top-cities-output', style={'color': accent_color, 'padding': '20px 10px'}),\n",
        "\n",
        "    html.Div([\n",
        "        dcc.Graph(id='score-bar-chart', config={'displayModeBar': False})\n",
        "    ], style={'padding': '0 10px'}),\n",
        "\n",
        "    html.Div([\n",
        "        html.H3(\"Suggested Cities (20–30°C Avg Temp)\", style={'color': accent_color}),\n",
        "        html.Ul(id='suggested-cities', style={'color': text_color, 'paddingLeft': '20px'})\n",
        "    ], style={'padding': '0 10px', 'marginBottom': '50px'})\n",
        "], style={'backgroundColor': dark_bg, 'fontFamily': 'Segoe UI, sans-serif', 'minHeight': '100vh'})\n",
        "# Callbacks\n",
        "@app.callback(\n",
        "    [Output('top-cities-output', 'children'),\n",
        "     Output('score-bar-chart', 'figure'),\n",
        "     Output('suggested-cities', 'children')],\n",
        "    [Input('region-dropdown', 'value'),\n",
        "     Input('month-slider', 'value')]\n",
        ")\n",
        "def update_dashboard(selected_region, selected_month):\n",
        "    if not selected_region:\n",
        "        return \"\", {}, []\n",
        "\n",
        "    # Filter for region\n",
        "    region_df = df[df[\"region\"] == selected_region]\n",
        "\n",
        "    # Top 5 cities by culture\n",
        "    top5 = region_df.sort_values(by='culture', ascending=False).head(5)\n",
        "\n",
        "    # Bar chart: Adventure, Nature, Nightlife\n",
        "    melted_df = top5[[\"city\", \"adventure\", \"nature\", \"nightlife\"]].melt(id_vars=\"city\", var_name=\"Category\", value_name=\"Score\")\n",
        "    fig = px.bar(melted_df, x=\"city\", y=\"Score\", color=\"Category\", barmode=\"group\",\n",
        "                 title=\"Top 5 Cities - Culture vs Adventure, Nature, Nightlife\")\n",
        "\n",
        "    # Suggested cities for selected month with 20–30°C avg temp\n",
        "    def is_temp_in_range(climate, month):\n",
        "        month_str = str(month)\n",
        "        if month_str in climate:\n",
        "            return 20 <= climate[month_str][\"avg\"] <= 30\n",
        "        return False\n",
        "\n",
        "    suggested = region_df[region_df[\"avg_temp_monthly\"].apply(lambda x: is_temp_in_range(x, selected_month))]\n",
        "\n",
        "    city_list = [html.Li(f\"{row['city']} - Avg Temp: {row['avg_temp_monthly'][str(selected_month)]['avg']}°C\")\n",
        "                 for _, row in suggested.iterrows()]\n",
        "\n",
        "    return (\n",
        "        html.H3(f\"Top 5 Cities in {selected_region.title()} by Culture\"),\n",
        "        fig,\n",
        "        city_list or [html.Li(\"No cities found in this temperature range.\")]\n",
        "    )\n",
        "\n",
        "# Run server\n",
        "if __name__ == '__main__':\n",
        "    app.run(debug=True)"
      ],
      "metadata": {
        "colab": {
          "base_uri": "https://localhost:8080/",
          "height": 671
        },
        "id": "jBPW4jddDMo6",
        "outputId": "be09db51-625f-4209-d122-f61f05ed15de"
      },
      "execution_count": 48,
      "outputs": [
        {
          "output_type": "display_data",
          "data": {
            "text/plain": [
              "<IPython.core.display.Javascript object>"
            ],
            "application/javascript": [
              "(async (port, path, width, height, cache, element) => {\n",
              "    if (!google.colab.kernel.accessAllowed && !cache) {\n",
              "      return;\n",
              "    }\n",
              "    element.appendChild(document.createTextNode(''));\n",
              "    const url = await google.colab.kernel.proxyPort(port, {cache});\n",
              "    const iframe = document.createElement('iframe');\n",
              "    iframe.src = new URL(path, url).toString();\n",
              "    iframe.height = height;\n",
              "    iframe.width = width;\n",
              "    iframe.style.border = 0;\n",
              "    iframe.allow = [\n",
              "        'accelerometer',\n",
              "        'autoplay',\n",
              "        'camera',\n",
              "        'clipboard-read',\n",
              "        'clipboard-write',\n",
              "        'gyroscope',\n",
              "        'magnetometer',\n",
              "        'microphone',\n",
              "        'serial',\n",
              "        'usb',\n",
              "        'xr-spatial-tracking',\n",
              "    ].join('; ');\n",
              "    element.appendChild(iframe);\n",
              "  })(8050, \"/\", \"100%\", 650, false, window.element)"
            ]
          },
          "metadata": {}
        }
      ]
    }
  ]
}
